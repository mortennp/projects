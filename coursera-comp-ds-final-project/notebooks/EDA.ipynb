{
 "cells": [
  {
   "cell_type": "markdown",
   "metadata": {},
   "source": [
    "# Imports"
   ]
  },
  {
   "cell_type": "code",
   "execution_count": null,
   "metadata": {},
   "outputs": [],
   "source": [
    "%load_ext autoreload\n",
    "%autoreload 2"
   ]
  },
  {
   "cell_type": "code",
   "execution_count": null,
   "metadata": {},
   "outputs": [],
   "source": [
    "import os\n",
    "import numpy as np\n",
    "import pandas as pd\n",
    "import matplotlib.pyplot as plt\n",
    "%matplotlib inline \n",
    "import holoviews as hv\n",
    "from holoviews import opts\n",
    "#import hvplot.pandas\n",
    "\n",
    "from src import CTX, FOLDERS\n",
    "from src.data import io\n",
    "from src.features import COLUMNS, build_features"
   ]
  },
  {
   "cell_type": "code",
   "execution_count": null,
   "metadata": {},
   "outputs": [],
   "source": [
    "hv.extension('bokeh', 'matplotlib')"
   ]
  },
  {
   "cell_type": "markdown",
   "metadata": {},
   "source": [
    "# Read data"
   ]
  },
  {
   "cell_type": "code",
   "execution_count": null,
   "metadata": {},
   "outputs": [],
   "source": [
    "sales, test, items, categories, shops = io.read_raw(FOLDERS.RAW)"
   ]
  },
  {
   "cell_type": "code",
   "execution_count": null,
   "metadata": {},
   "outputs": [],
   "source": [
    "print('Sales shape: ', sales.shape)\n",
    "print('Test shape: ', test.shape)\n",
    "print('Items shape: ', items.shape)\n",
    "print('Categories shape: ', categories.shape)\n",
    "print('Shops shape: ', shops.shape)"
   ]
  },
  {
   "cell_type": "code",
   "execution_count": null,
   "metadata": {},
   "outputs": [],
   "source": [
    "observations = []"
   ]
  },
  {
   "cell_type": "markdown",
   "metadata": {},
   "source": [
    "# Items"
   ]
  },
  {
   "cell_type": "code",
   "execution_count": null,
   "metadata": {},
   "outputs": [],
   "source": [
    "items.head()"
   ]
  },
  {
   "cell_type": "code",
   "execution_count": null,
   "metadata": {},
   "outputs": [],
   "source": [
    "items.nunique()"
   ]
  },
  {
   "cell_type": "code",
   "execution_count": null,
   "metadata": {},
   "outputs": [],
   "source": [
    "items.info()"
   ]
  },
  {
   "cell_type": "code",
   "execution_count": null,
   "metadata": {},
   "outputs": [],
   "source": [
    "(hv.Scatter(items.reset_index(), kdims=['index', 'item_id']) + hv.HexTiles(items, kdims=['item_id', 'item_category_id']).opts(width=500, colorbar=True))"
   ]
  },
  {
   "cell_type": "code",
   "execution_count": null,
   "metadata": {},
   "outputs": [],
   "source": [
    "items_by_category = items[['item_id', 'item_category_id']].groupby('item_category_id').count()\n",
    "hv.Bars(items_by_category).opts(width=1200, logy=True, ylabel='Item Count (log)')"
   ]
  },
  {
   "cell_type": "code",
   "execution_count": null,
   "metadata": {},
   "outputs": [],
   "source": [
    "observations += ['Tens of categories with very few items, a handfuld of categories with thousands of items.']"
   ]
  },
  {
   "cell_type": "markdown",
   "metadata": {},
   "source": [
    "# Categories"
   ]
  },
  {
   "cell_type": "code",
   "execution_count": null,
   "metadata": {},
   "outputs": [],
   "source": [
    "categories.head()"
   ]
  },
  {
   "cell_type": "code",
   "execution_count": null,
   "metadata": {},
   "outputs": [],
   "source": [
    "categories.nunique()"
   ]
  },
  {
   "cell_type": "code",
   "execution_count": null,
   "metadata": {},
   "outputs": [],
   "source": [
    "categories.info()"
   ]
  },
  {
   "cell_type": "code",
   "execution_count": null,
   "metadata": {},
   "outputs": [],
   "source": [
    "hv.Scatter(categories.reset_index(), kdims=['index', 'item_category_id']) + hv.Table(categories.sort_values(by='item_category_name'))"
   ]
  },
  {
   "cell_type": "code",
   "execution_count": null,
   "metadata": {},
   "outputs": [],
   "source": [
    "observations += ['First word of category name a good candidate for super-category grouping of categories (split on dash and space)'] \n",
    "observations += ['(Categories already sorted on category name)'] "
   ]
  },
  {
   "cell_type": "code",
   "execution_count": null,
   "metadata": {},
   "outputs": [],
   "source": [
    "categories = build_features.add_super_category(categories)\n",
    "hv.Table(categories)"
   ]
  },
  {
   "cell_type": "markdown",
   "metadata": {},
   "source": [
    "# Shops"
   ]
  },
  {
   "cell_type": "code",
   "execution_count": null,
   "metadata": {},
   "outputs": [],
   "source": [
    "shops.head()"
   ]
  },
  {
   "cell_type": "code",
   "execution_count": null,
   "metadata": {},
   "outputs": [],
   "source": [
    "shops.nunique()"
   ]
  },
  {
   "cell_type": "code",
   "execution_count": null,
   "metadata": {},
   "outputs": [],
   "source": [
    "shops.info()"
   ]
  },
  {
   "cell_type": "code",
   "execution_count": null,
   "metadata": {},
   "outputs": [],
   "source": [
    "hv.Scatter(shops.reset_index(), kdims=['index', 'shop_id']) + hv.Table(shops.sort_values(by='shop_name'))"
   ]
  },
  {
   "cell_type": "code",
   "execution_count": null,
   "metadata": {},
   "outputs": [],
   "source": [
    "observations += ['First word of shop name a good candidate for super-category grouping of shops (split on dash and space)'] \n",
    "observations += ['(Shops already sorted on shop name)'] "
   ]
  },
  {
   "cell_type": "code",
   "execution_count": null,
   "metadata": {},
   "outputs": [],
   "source": [
    "shops = build_features.add_super_shop(shops)\n",
    "hv.Table(shops)"
   ]
  },
  {
   "cell_type": "markdown",
   "metadata": {},
   "source": [
    "# Sales data"
   ]
  },
  {
   "cell_type": "code",
   "execution_count": null,
   "metadata": {},
   "outputs": [],
   "source": [
    "sales.head()"
   ]
  },
  {
   "cell_type": "code",
   "execution_count": null,
   "metadata": {},
   "outputs": [],
   "source": [
    "observations += ['Submissions are evaluated by root mean squared error (RMSE). True target values are clipped into [0,20] range.']"
   ]
  },
  {
   "cell_type": "code",
   "execution_count": null,
   "metadata": {},
   "outputs": [],
   "source": [
    "sales_rolled_up = build_features.rollup_and_clip_sales(sales)\n",
    "sales_rolled_up.head()"
   ]
  },
  {
   "cell_type": "code",
   "execution_count": null,
   "metadata": {},
   "outputs": [],
   "source": [
    "train = build_features.enrich(sales_rolled_up, shops, items, categories)\n",
    "train.head()"
   ]
  },
  {
   "cell_type": "code",
   "execution_count": null,
   "metadata": {},
   "outputs": [],
   "source": [
    "train.nunique()"
   ]
  },
  {
   "cell_type": "code",
   "execution_count": null,
   "metadata": {},
   "outputs": [],
   "source": [
    "train.info()"
   ]
  },
  {
   "cell_type": "code",
   "execution_count": null,
   "metadata": {},
   "outputs": [],
   "source": [
    "observations += ['All shop, item, and category references are valid in training data.']\n",
    "observations += ['Training data does not have explicit NULLs']\n",
    "observations += ['All shops and categories, and most items appear in training data']"
   ]
  },
  {
   "cell_type": "code",
   "execution_count": null,
   "metadata": {},
   "outputs": [],
   "source": [
    "plots = [hv.Scatter(train.sample(frac=0.1).reset_index(), kdims=['index', feature_name]).opts(width=500) \\\n",
    "         for feature_name in ['date_block_num', 'shop_id', 'super_shop_id', 'item_category_id', 'super_category_id', 'item_id']]\n",
    "hv.Layout(plots).cols(2)"
   ]
  },
  {
   "cell_type": "code",
   "execution_count": null,
   "metadata": {},
   "outputs": [],
   "source": [
    "observations += ['My rollup and enrichment code leaves data sorted by time, shop, category, so train/validation split for CV will use different suffix lengths of the data for validation.']"
   ]
  },
  {
   "cell_type": "code",
   "execution_count": null,
   "metadata": {},
   "outputs": [],
   "source": [
    "hv.Bars(train.item_cnt_month.value_counts()).opts(width=1200, logx=True, xrotation=90, xlabel='item_cnt_month', ylabel='value_count (log)')"
   ]
  },
  {
   "cell_type": "code",
   "execution_count": null,
   "metadata": {},
   "outputs": [],
   "source": [
    "observations += ['The vast majority of items only sell once a month across all shops.']"
   ]
  },
  {
   "cell_type": "code",
   "execution_count": null,
   "metadata": {},
   "outputs": [],
   "source": [
    "hv.Dataset(train.sample(frac=0.1), kdims=['super_shop_id', 'date_block_num'], vdims=['item_cnt_month']).sort().to(\n",
    "    hv.Violin, kdims=['date_block_num']).opts(width=1200, height=800, title='Violin of sales pr. month for selected super_shop_id (use widget)', toolbar='above')#.layout('super_shop_id').cols(1)"
   ]
  },
  {
   "cell_type": "code",
   "execution_count": null,
   "metadata": {},
   "outputs": [],
   "source": [
    "hv.Dataset(train.sample(frac=0.1), kdims=['super_category_id', 'date_block_num'], vdims=['item_cnt_month']).sort().to(\n",
    "    hv.Violin, kdims=['date_block_num']).opts(width=1200, height=800, title='Violin of sales pr. month for selected super_category_id (use widget)', toolbar='above')#.layout('super_shop_id').cols(1)"
   ]
  },
  {
   "cell_type": "code",
   "execution_count": null,
   "metadata": {},
   "outputs": [],
   "source": [
    "observations += ['Very long sales tails pr. month (rhyme inteded) for both super_shop_id and super_category_id']"
   ]
  },
  {
   "cell_type": "code",
   "execution_count": null,
   "metadata": {},
   "outputs": [],
   "source": [
    "buf = train.groupby(['super_shop_id', 'super_category_id']).aggregate({'item_cnt_month':['count']}) \\\n",
    "    .sort_values(('item_cnt_month', 'count')).tail(10).reset_index() \\\n",
    "    .merge(train, on=['super_shop_id', 'super_category_id'], how='left')\n",
    "#buf.head()"
   ]
  },
  {
   "cell_type": "code",
   "execution_count": null,
   "metadata": {},
   "outputs": [],
   "source": [
    "hv.Dataset(buf, kdims=['super_shop_id', 'super_category_id', 'date_block_num'], vdims=['item_cnt_month']) \\\n",
    "    .sort().to(hv.Violin, kdims=['date_block_num']) \\\n",
    "    .opts(width=1200, height=800, title='Violin of sales pr. month for selected super_shop_id and super_category_id (use widgets)', toolbar='above')#.layout('super_shop_id').cols(1)"
   ]
  },
  {
   "cell_type": "markdown",
   "metadata": {},
   "source": [
    "# Test data"
   ]
  },
  {
   "cell_type": "code",
   "execution_count": null,
   "metadata": {},
   "outputs": [],
   "source": [
    "test.head()"
   ]
  },
  {
   "cell_type": "code",
   "execution_count": null,
   "metadata": {},
   "outputs": [],
   "source": [
    "observations += ['For each ID in the test set (shop_id/item_id combination), one must predict a total number of sales (item_cnt_month) for that date_block_num (34).']"
   ]
  },
  {
   "cell_type": "code",
   "execution_count": null,
   "metadata": {},
   "outputs": [],
   "source": [
    "test = build_features.enrich(test, shops, items, categories)\n",
    "test.head()"
   ]
  },
  {
   "cell_type": "code",
   "execution_count": null,
   "metadata": {},
   "outputs": [],
   "source": [
    "test_date_block_num = train.date_block_num.max() + 1"
   ]
  },
  {
   "cell_type": "markdown",
   "metadata": {},
   "source": [
    "# Similarity of key distribution across Train and Test "
   ]
  },
  {
   "cell_type": "code",
   "execution_count": null,
   "metadata": {},
   "outputs": [],
   "source": [
    "def group_on_keys_and_normalize_counts(df, origin):\n",
    "    from sklearn.preprocessing import MinMaxScaler\n",
    "    \n",
    "    result = df.groupby(['shop_id', 'item_category_id'])['date_block_num'].aggregate({'date_block_num':'count'}).reset_index()\n",
    "    result = result.assign(normalized_count = MinMaxScaler(feature_range=(0, 100), copy=True).fit_transform(result[['date_block_num']]))\n",
    "    result = result.drop(columns=['date_block_num'])\n",
    "    result = result.assign(origin=origin)\n",
    "    return result    "
   ]
  },
  {
   "cell_type": "code",
   "execution_count": null,
   "metadata": {},
   "outputs": [],
   "source": [
    "ds = hv.Dataset(\n",
    "    pd.concat([\n",
    "        group_on_keys_and_normalize_counts(train, 'Train'),\n",
    "        group_on_keys_and_normalize_counts(test.assign(date_block_num=test_date_block_num).drop(columns=['ID']), 'Test')],\n",
    "        ignore_index=True, sort=False),\n",
    "    ['shop_id', 'item_category_id', 'origin'], ['normalized_count'])\n",
    "ds.select(origin=['Train','Test']).to(hv.HeatMap).opts(opts.HeatMap(width=700, height=700, colorbar=True)).grid('origin')"
   ]
  },
  {
   "cell_type": "code",
   "execution_count": null,
   "metadata": {},
   "outputs": [],
   "source": [
    "observations += ['Test evenly distributed, Train more random, will have to explicitly add missing zeroes to Train.']"
   ]
  },
  {
   "cell_type": "markdown",
   "metadata": {},
   "source": [
    "# Visualizations"
   ]
  },
  {
   "cell_type": "code",
   "execution_count": null,
   "metadata": {},
   "outputs": [],
   "source": [
    "def nansum(a, **kwargs):\n",
    "    return np.nan if np.isnan(a).all() else np.nansum(a, **kwargs)"
   ]
  },
  {
   "cell_type": "markdown",
   "metadata": {},
   "source": [
    "## Sales pr. time and shop heatmap"
   ]
  },
  {
   "cell_type": "code",
   "execution_count": null,
   "metadata": {},
   "outputs": [],
   "source": [
    "train.hvplot.heatmap('date_block_num', 'shop_name', 'item_cnt_month', \n",
    "                     reduce_function=nansum,\n",
    "                     title='item_cnt_month pr. date_block_num and shop_name',\n",
    "                     logz=True, height=800, width=1200, flip_yaxis=True)"
   ]
  },
  {
   "cell_type": "code",
   "execution_count": null,
   "metadata": {},
   "outputs": [],
   "source": [
    "train.hvplot.heatmap('date_block_num', 'super_shop_name', 'item_cnt_month', \n",
    "                     reduce_function=nansum,\n",
    "                     title='item_cnt_month pr. date_block_num and super_shop_name',\n",
    "                     logz=True, height=800, width=1200, flip_yaxis=True)"
   ]
  },
  {
   "cell_type": "markdown",
   "metadata": {},
   "source": [
    "## Sales pr time and category heatmap"
   ]
  },
  {
   "cell_type": "code",
   "execution_count": null,
   "metadata": {},
   "outputs": [],
   "source": [
    "train.hvplot.heatmap('date_block_num', 'item_category_name', 'item_cnt_month', \n",
    "                     reduce_function=nansum,\n",
    "                     title='item_cnt_month pr. date_block_num and item_category_name',\n",
    "                     logz=True, height=800, width=1200, flip_yaxis=True)"
   ]
  },
  {
   "cell_type": "code",
   "execution_count": null,
   "metadata": {},
   "outputs": [],
   "source": [
    "train.hvplot.heatmap('date_block_num', 'super_category_name', 'item_cnt_month', \n",
    "                     reduce_function=nansum,\n",
    "                     title='item_cnt_month pr. date_block_num and super_category_name',\n",
    "                     logz=True, height=800, width=1200, flip_yaxis=True)"
   ]
  },
  {
   "cell_type": "markdown",
   "metadata": {},
   "source": [
    "# Observations"
   ]
  },
  {
   "cell_type": "code",
   "execution_count": null,
   "metadata": {},
   "outputs": [],
   "source": [
    "io.save_data(FOLDERS.PROCESSED, CTX + 'observations', pd.DataFrame(observations, columns=['Observation']))"
   ]
  },
  {
   "cell_type": "code",
   "execution_count": null,
   "metadata": {},
   "outputs": [],
   "source": []
  }
 ],
 "metadata": {
  "kernelspec": {
   "display_name": "Python [conda env:comp-ds]",
   "language": "python",
   "name": "conda-env-comp-ds-py"
  },
  "language_info": {
   "codemirror_mode": {
    "name": "ipython",
    "version": 3
   },
   "file_extension": ".py",
   "mimetype": "text/x-python",
   "name": "python",
   "nbconvert_exporter": "python",
   "pygments_lexer": "ipython3",
   "version": "3.6.7"
  }
 },
 "nbformat": 4,
 "nbformat_minor": 2
}
