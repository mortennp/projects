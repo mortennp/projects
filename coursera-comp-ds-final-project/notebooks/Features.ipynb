{
 "cells": [
  {
   "cell_type": "markdown",
   "metadata": {},
   "source": [
    "# Imports"
   ]
  },
  {
   "cell_type": "code",
   "execution_count": null,
   "metadata": {},
   "outputs": [],
   "source": [
    "%load_ext autoreload\n",
    "%autoreload 2"
   ]
  },
  {
   "cell_type": "code",
   "execution_count": null,
   "metadata": {},
   "outputs": [],
   "source": [
    "import gc\n",
    "import os\n",
    "import pandas as pd\n",
    "import numpy as np\n",
    "import holoviews as hv\n",
    "\n",
    "pd.set_option('display.max_columns', 500)\n",
    "\n",
    "from src import CTX, SEED, FOLDERS\n",
    "from src.features import COLUMNS\n",
    "import src.data as data\n",
    "import src.features as features"
   ]
  },
  {
   "cell_type": "code",
   "execution_count": null,
   "metadata": {},
   "outputs": [],
   "source": [
    "hv.extension('bokeh')"
   ]
  },
  {
   "cell_type": "code",
   "execution_count": null,
   "metadata": {},
   "outputs": [],
   "source": [
    "observations = data.load_data(FOLDERS.PROCESSED, CTX + 'observations', pd.DataFrame())\n",
    "observations"
   ]
  },
  {
   "cell_type": "markdown",
   "metadata": {},
   "source": [
    "# Read raw data"
   ]
  },
  {
   "cell_type": "code",
   "execution_count": null,
   "metadata": {},
   "outputs": [],
   "source": [
    "sales, test, items, categories, shops = data.read_raw(FOLDERS.RAW)"
   ]
  },
  {
   "cell_type": "code",
   "execution_count": null,
   "metadata": {},
   "outputs": [],
   "source": [
    "### TODO\n",
    "sales = sales. loc[sales.shop_id <= 10]\n",
    "test = test.loc[test.shop_id <= 10]\n",
    "### TODO"
   ]
  },
  {
   "cell_type": "code",
   "execution_count": null,
   "metadata": {},
   "outputs": [],
   "source": [
    "train = features.rollup_and_clip_sales(sales)\n",
    "train.head()"
   ]
  },
  {
   "cell_type": "code",
   "execution_count": null,
   "metadata": {},
   "outputs": [],
   "source": [
    "max_train_date_block_num = train.date_block_num.max()\n",
    "max_train_date_block_num"
   ]
  },
  {
   "cell_type": "code",
   "execution_count": null,
   "metadata": {},
   "outputs": [],
   "source": [
    "lags = [1, 2, 3, 4, 5, 12]"
   ]
  },
  {
   "cell_type": "markdown",
   "metadata": {},
   "source": [
    "# Create grid"
   ]
  },
  {
   "cell_type": "code",
   "execution_count": null,
   "metadata": {},
   "outputs": [],
   "source": [
    "from tqdm import tqdm_notebook\n",
    "sales_grid = features.create_grid(\n",
    "    pd.concat([\n",
    "        train.rename(columns={'item_cnt_month' : 'target'}),\n",
    "        test.assign(date_block_num=max_train_date_block_num+1).drop(columns=['ID'])],\n",
    "        ignore_index=True, sort=False),\n",
    "    COLUMNS.KEYS_AND_TIME,\n",
    "    tqdm_notebook)\n",
    "print(len(sales_grid))\n",
    "sales_grid.head()"
   ]
  },
  {
   "cell_type": "code",
   "execution_count": null,
   "metadata": {},
   "outputs": [],
   "source": [
    "data.save_data(FOLDERS.INTERIM, CTX + 'grid', sales_grid)\n",
    "del sales_grid\n",
    "gc.collect()"
   ]
  },
  {
   "cell_type": "markdown",
   "metadata": {},
   "source": [
    "# Mean encode"
   ]
  },
  {
   "cell_type": "code",
   "execution_count": null,
   "metadata": {},
   "outputs": [],
   "source": [
    "sales_grid = data.load_data(FOLDERS.INTERIM, CTX + 'grid', pd.DataFrame())\n",
    "enriched = features.enrich(\n",
    "    sales_grid,\n",
    "    features.add_super_shop(shops),\n",
    "    items,\n",
    "    features.add_super_category(categories))\n",
    "mean_encoded = features.mean_encode(enriched)\n",
    "mean_encoded = mean_encoded.drop(columns=mean_encoded.filter(regex='name').columns)\n",
    "mean_encoded.head()"
   ]
  },
  {
   "cell_type": "code",
   "execution_count": null,
   "metadata": {},
   "outputs": [],
   "source": [
    "data.save_data(FOLDERS.INTERIM, CTX + 'mean_encoded', mean_encoded)\n",
    "del sales_grid, enriched, mean_encoded\n",
    "gc.collect()"
   ]
  },
  {
   "cell_type": "markdown",
   "metadata": {},
   "source": [
    "# Create lags"
   ]
  },
  {
   "cell_type": "code",
   "execution_count": null,
   "metadata": {},
   "outputs": [],
   "source": [
    "mean_encoded = data.load_data(FOLDERS.INTERIM, CTX + 'mean_encoded', pd.DataFrame())"
   ]
  },
  {
   "cell_type": "code",
   "execution_count": null,
   "metadata": {},
   "outputs": [],
   "source": [
    "lagged_data, to_drop_cols = features.create_lags(\n",
    "    mean_encoded,\n",
    "    COLUMNS.KEYS_AND_TIME + COLUMNS.DERIVED_KEYS,\n",
    "    lags,\n",
    "    tqdm_notebook)\n",
    "lagged_data.head()"
   ]
  },
  {
   "cell_type": "code",
   "execution_count": null,
   "metadata": {},
   "outputs": [],
   "source": [
    "to_drop_cols = pd.DataFrame(to_drop_cols, columns=['col_name'])\n",
    "to_drop_cols.sort_values(by='col_name')"
   ]
  },
  {
   "cell_type": "code",
   "execution_count": null,
   "metadata": {},
   "outputs": [],
   "source": [
    "del mean_encoded\n",
    "gc.collect()"
   ]
  },
  {
   "cell_type": "code",
   "execution_count": null,
   "metadata": {},
   "outputs": [],
   "source": [
    "lagged_data = lagged_data.assign(month = lagged_data.date_block_num % 12)\n",
    "lagged_data = lagged_data[lagged_data.date_block_num >= max(lags)]\n",
    "lagged_data = lagged_data.reset_index(drop=True)\n",
    "lagged_data.head()"
   ]
  },
  {
   "cell_type": "code",
   "execution_count": null,
   "metadata": {},
   "outputs": [],
   "source": [
    "data.save_data(FOLDERS.INTERIM, CTX + 'lagged_data', lagged_data)\n",
    "data.save_data(FOLDERS.INTERIM, CTX + 'to_drop_cols', to_drop_cols)\n",
    "del lagged_data, to_drop_cols\n",
    "gc.collect()"
   ]
  },
  {
   "cell_type": "markdown",
   "metadata": {},
   "source": [
    "# One-hot encode and normalize"
   ]
  },
  {
   "cell_type": "code",
   "execution_count": null,
   "metadata": {},
   "outputs": [],
   "source": [
    "lagged_data = data.load_data(FOLDERS.INTERIM, CTX + 'lagged_data', pd.DataFrame())\n",
    "to_drop_cols = data.load_data(FOLDERS.INTERIM, CTX + 'to_drop_cols', pd.DataFrame())"
   ]
  },
  {
   "cell_type": "code",
   "execution_count": null,
   "metadata": {},
   "outputs": [],
   "source": [
    "numeric_features = sorted(list(set(list(lagged_data.columns.values)) \n",
    "                               - set(to_drop_cols.col_name.values) - set(COLUMNS.KEYS_AND_TIME) - set(COLUMNS.DERIVED_KEYS) - set(['item_category_id'])))\n",
    "#numeric_features = []\n",
    "print(numeric_features)"
   ]
  },
  {
   "cell_type": "code",
   "execution_count": null,
   "metadata": {},
   "outputs": [],
   "source": [
    "categorical_features = ['shop_id'] + COLUMNS.DERIVED_KEYS\n",
    "#categorical_features = []\n",
    "print(categorical_features)"
   ]
  },
  {
   "cell_type": "code",
   "execution_count": null,
   "metadata": {},
   "outputs": [],
   "source": [
    "mapper = features.create_mapper_sklearn_pandas_contrib(categorical_features, numeric_features)\n",
    "mapped_data = mapper.fit_transform(lagged_data.drop(to_drop_cols.col_name.values, axis=1)).astype(np.float32)"
   ]
  },
  {
   "cell_type": "code",
   "execution_count": null,
   "metadata": {},
   "outputs": [],
   "source": [
    "feature_names = pd.DataFrame(mapper.transformed_names_, columns=['feature_name'])\n",
    "data.save_data(FOLDERS.PROCESSED, CTX + 'feature_names', feature_names)\n",
    "feature_names.feature_name.sort_values()"
   ]
  },
  {
   "cell_type": "code",
   "execution_count": null,
   "metadata": {},
   "outputs": [],
   "source": [
    "num_columns_to_add = lagged_data.shop_id.nunique() + lagged_data.super_shop_id.nunique() + lagged_data.item_category_id.nunique() + lagged_data.super_category_id.nunique()\n",
    "print(len(lagged_data.columns) - len(to_drop_cols) - len(categorical_features) + num_columns_to_add)\n",
    "print(mapped_data.shape)\n",
    "print(mapped_data.dtype)"
   ]
  },
  {
   "cell_type": "code",
   "execution_count": null,
   "metadata": {},
   "outputs": [],
   "source": [
    "#train = lagged_data.loc[lagged_data.date_block_num <= max_train_date_block_num]\n",
    "#test_lagged = lagged_data.loc[lagged_data.date_block_num == max_train_date_block_num + 1]\n",
    "train_indices = lagged_data.date_block_num <= max_train_date_block_num\n",
    "test_indices = lagged_data.date_block_num == max_train_date_block_num + 1"
   ]
  },
  {
   "cell_type": "code",
   "execution_count": null,
   "metadata": {},
   "outputs": [],
   "source": [
    "X_train = mapped_data[train_indices]\n",
    "#np.random.shuffle(X_train)\n",
    "X_test = mapped_data[test_indices]\n",
    "\n",
    "target_col = 'target'\n",
    "y_train = lagged_data.loc[train_indices, [target_col]].values.ravel()"
   ]
  },
  {
   "cell_type": "code",
   "execution_count": null,
   "metadata": {},
   "outputs": [],
   "source": [
    "dates_train=lagged_data.loc[train_indices,['date_block_num']]\n",
    "#dates_train.head()\n",
    "predictions = lagged_data.loc[test_indices, ['shop_id', 'item_id']]\n",
    "#predictions.head()"
   ]
  },
  {
   "cell_type": "code",
   "execution_count": null,
   "metadata": {},
   "outputs": [],
   "source": [
    "data.save_data(FOLDERS.PROCESSED, CTX + 'X_train', X_train)\n",
    "data.save_data(FOLDERS.PROCESSED, CTX + 'X_test', X_test)\n",
    "data.save_data(FOLDERS.PROCESSED, CTX + 'y_train', y_train)\n",
    "data.save_data(FOLDERS.PROCESSED, CTX + 'dates_train', dates_train)\n",
    "data.save_data(FOLDERS.PROCESSED, CTX + 'predictions', predictions)"
   ]
  },
  {
   "cell_type": "code",
   "execution_count": null,
   "metadata": {},
   "outputs": [],
   "source": [
    "del lagged_data\n",
    "del mapped_data\n",
    "gc.collect()"
   ]
  },
  {
   "cell_type": "code",
   "execution_count": null,
   "metadata": {},
   "outputs": [],
   "source": []
  }
 ],
 "metadata": {
  "kernelspec": {
   "display_name": "Python [conda env:comp-ds]",
   "language": "python",
   "name": "conda-env-comp-ds-py"
  },
  "language_info": {
   "codemirror_mode": {
    "name": "ipython",
    "version": 3
   },
   "file_extension": ".py",
   "mimetype": "text/x-python",
   "name": "python",
   "nbconvert_exporter": "python",
   "pygments_lexer": "ipython3",
   "version": "3.6.7"
  }
 },
 "nbformat": 4,
 "nbformat_minor": 2
}
