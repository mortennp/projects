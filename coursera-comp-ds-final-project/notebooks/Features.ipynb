{
 "cells": [
  {
   "cell_type": "markdown",
   "metadata": {},
   "source": [
    "# Imports"
   ]
  },
  {
   "cell_type": "code",
   "execution_count": 1,
   "metadata": {},
   "outputs": [],
   "source": [
    "%load_ext autoreload\n",
    "%autoreload 2"
   ]
  },
  {
   "cell_type": "code",
   "execution_count": 26,
   "metadata": {},
   "outputs": [],
   "source": [
    "import gc\n",
    "import os\n",
    "import pandas as pd\n",
    "import numpy as np\n",
    "\n",
    "from src import CTX, SEED, FOLDERS\n",
    "from src.data import io\n",
    "from src.features import COLUMNS, build_features"
   ]
  },
  {
   "cell_type": "code",
   "execution_count": 3,
   "metadata": {},
   "outputs": [
    {
     "name": "stdout",
     "output_type": "stream",
     "text": [
      "Loading ../data/processed/CC-Labs-hv_observations.h5\n"
     ]
    },
    {
     "data": {
      "text/html": [
       "<div>\n",
       "<style scoped>\n",
       "    .dataframe tbody tr th:only-of-type {\n",
       "        vertical-align: middle;\n",
       "    }\n",
       "\n",
       "    .dataframe tbody tr th {\n",
       "        vertical-align: top;\n",
       "    }\n",
       "\n",
       "    .dataframe thead th {\n",
       "        text-align: right;\n",
       "    }\n",
       "</style>\n",
       "<table border=\"1\" class=\"dataframe\">\n",
       "  <thead>\n",
       "    <tr style=\"text-align: right;\">\n",
       "      <th></th>\n",
       "      <th>Observation</th>\n",
       "    </tr>\n",
       "  </thead>\n",
       "  <tbody>\n",
       "    <tr>\n",
       "      <th>0</th>\n",
       "      <td>Tens of categories with very few items, a hand...</td>\n",
       "    </tr>\n",
       "    <tr>\n",
       "      <th>1</th>\n",
       "      <td>First word of category name a good candidate f...</td>\n",
       "    </tr>\n",
       "    <tr>\n",
       "      <th>2</th>\n",
       "      <td>(Categories already sorted on category name)</td>\n",
       "    </tr>\n",
       "    <tr>\n",
       "      <th>3</th>\n",
       "      <td>First word of shop name a good candidate for s...</td>\n",
       "    </tr>\n",
       "    <tr>\n",
       "      <th>4</th>\n",
       "      <td>(Shops already sorted on shop name)</td>\n",
       "    </tr>\n",
       "    <tr>\n",
       "      <th>5</th>\n",
       "      <td>Submissions are evaluated by root mean squared...</td>\n",
       "    </tr>\n",
       "    <tr>\n",
       "      <th>6</th>\n",
       "      <td>All shop, item, and category references are va...</td>\n",
       "    </tr>\n",
       "    <tr>\n",
       "      <th>7</th>\n",
       "      <td>Training data does not have explicit NULLs</td>\n",
       "    </tr>\n",
       "    <tr>\n",
       "      <th>8</th>\n",
       "      <td>For each ID in the test set (shop_id/item_id c...</td>\n",
       "    </tr>\n",
       "    <tr>\n",
       "      <th>9</th>\n",
       "      <td>One in seven test data keys do not have entrie...</td>\n",
       "    </tr>\n",
       "  </tbody>\n",
       "</table>\n",
       "</div>"
      ],
      "text/plain": [
       "                                         Observation\n",
       "0  Tens of categories with very few items, a hand...\n",
       "1  First word of category name a good candidate f...\n",
       "2       (Categories already sorted on category name)\n",
       "3  First word of shop name a good candidate for s...\n",
       "4                (Shops already sorted on shop name)\n",
       "5  Submissions are evaluated by root mean squared...\n",
       "6  All shop, item, and category references are va...\n",
       "7         Training data does not have explicit NULLs\n",
       "8  For each ID in the test set (shop_id/item_id c...\n",
       "9  One in seven test data keys do not have entrie..."
      ]
     },
     "execution_count": 3,
     "metadata": {},
     "output_type": "execute_result"
    }
   ],
   "source": [
    "observations = io.load_data(FOLDERS.PROCESSED, CTX + 'observations', pd.DataFrame())\n",
    "observations"
   ]
  },
  {
   "cell_type": "markdown",
   "metadata": {},
   "source": [
    "# Read raw data"
   ]
  },
  {
   "cell_type": "code",
   "execution_count": 8,
   "metadata": {},
   "outputs": [],
   "source": [
    "from src.data import io\n",
    "sales, test, items, categories, shops = io.read_raw(FOLDERS.RAW)"
   ]
  },
  {
   "cell_type": "code",
   "execution_count": 9,
   "metadata": {},
   "outputs": [],
   "source": [
    "### TODO\n",
    "sales = sales.loc[sales.shop_id <= 10]\n",
    "test = test.loc[test.shop_id <= 10]\n",
    "### TODO"
   ]
  },
  {
   "cell_type": "code",
   "execution_count": 10,
   "metadata": {},
   "outputs": [
    {
     "data": {
      "text/html": [
       "<div>\n",
       "<style scoped>\n",
       "    .dataframe tbody tr th:only-of-type {\n",
       "        vertical-align: middle;\n",
       "    }\n",
       "\n",
       "    .dataframe tbody tr th {\n",
       "        vertical-align: top;\n",
       "    }\n",
       "\n",
       "    .dataframe thead th {\n",
       "        text-align: right;\n",
       "    }\n",
       "</style>\n",
       "<table border=\"1\" class=\"dataframe\">\n",
       "  <thead>\n",
       "    <tr style=\"text-align: right;\">\n",
       "      <th></th>\n",
       "      <th>date_block_num</th>\n",
       "      <th>shop_id</th>\n",
       "      <th>item_id</th>\n",
       "      <th>item_cnt_month</th>\n",
       "    </tr>\n",
       "  </thead>\n",
       "  <tbody>\n",
       "    <tr>\n",
       "      <th>0</th>\n",
       "      <td>0</td>\n",
       "      <td>0</td>\n",
       "      <td>32</td>\n",
       "      <td>6.0</td>\n",
       "    </tr>\n",
       "    <tr>\n",
       "      <th>1</th>\n",
       "      <td>0</td>\n",
       "      <td>0</td>\n",
       "      <td>33</td>\n",
       "      <td>3.0</td>\n",
       "    </tr>\n",
       "    <tr>\n",
       "      <th>2</th>\n",
       "      <td>0</td>\n",
       "      <td>0</td>\n",
       "      <td>35</td>\n",
       "      <td>1.0</td>\n",
       "    </tr>\n",
       "    <tr>\n",
       "      <th>3</th>\n",
       "      <td>0</td>\n",
       "      <td>0</td>\n",
       "      <td>43</td>\n",
       "      <td>1.0</td>\n",
       "    </tr>\n",
       "    <tr>\n",
       "      <th>4</th>\n",
       "      <td>0</td>\n",
       "      <td>0</td>\n",
       "      <td>51</td>\n",
       "      <td>2.0</td>\n",
       "    </tr>\n",
       "  </tbody>\n",
       "</table>\n",
       "</div>"
      ],
      "text/plain": [
       "   date_block_num  shop_id  item_id  item_cnt_month\n",
       "0               0        0       32             6.0\n",
       "1               0        0       33             3.0\n",
       "2               0        0       35             1.0\n",
       "3               0        0       43             1.0\n",
       "4               0        0       51             2.0"
      ]
     },
     "execution_count": 10,
     "metadata": {},
     "output_type": "execute_result"
    }
   ],
   "source": [
    "train = build_features.rollup_and_clip_sales(sales)\n",
    "train.head()"
   ]
  },
  {
   "cell_type": "markdown",
   "metadata": {},
   "source": [
    "# Create grid"
   ]
  },
  {
   "cell_type": "code",
   "execution_count": 11,
   "metadata": {},
   "outputs": [
    {
     "data": {
      "text/plain": [
       "33"
      ]
     },
     "execution_count": 11,
     "metadata": {},
     "output_type": "execute_result"
    }
   ],
   "source": [
    "max_train_date_block_num = train.date_block_num.max()\n",
    "max_train_date_block_num"
   ]
  },
  {
   "cell_type": "code",
   "execution_count": 12,
   "metadata": {},
   "outputs": [
    {
     "data": {
      "application/vnd.jupyter.widget-view+json": {
       "model_id": "805048db84c84ff59db0f7d3346c5c11",
       "version_major": 2,
       "version_minor": 0
      },
      "text/plain": [
       "HBox(children=(IntProgress(value=0, max=35), HTML(value='')))"
      ]
     },
     "metadata": {},
     "output_type": "display_data"
    },
    {
     "name": "stdout",
     "output_type": "stream",
     "text": [
      "\n"
     ]
    },
    {
     "name": "stderr",
     "output_type": "stream",
     "text": [
      "/home/mortennp/miniconda3/envs/comp-ds-3_6/lib/python3.6/site-packages/pandas/core/groupby/groupby.py:4656: FutureWarning: using a dict with renaming is deprecated and will be removed in a future version\n",
      "  return super(DataFrameGroupBy, self).aggregate(arg, *args, **kwargs)\n"
     ]
    },
    {
     "name": "stdout",
     "output_type": "stream",
     "text": [
      "710837\n"
     ]
    },
    {
     "data": {
      "text/html": [
       "<div>\n",
       "<style scoped>\n",
       "    .dataframe tbody tr th:only-of-type {\n",
       "        vertical-align: middle;\n",
       "    }\n",
       "\n",
       "    .dataframe tbody tr th {\n",
       "        vertical-align: top;\n",
       "    }\n",
       "\n",
       "    .dataframe thead th {\n",
       "        text-align: right;\n",
       "    }\n",
       "</style>\n",
       "<table border=\"1\" class=\"dataframe\">\n",
       "  <thead>\n",
       "    <tr style=\"text-align: right;\">\n",
       "      <th></th>\n",
       "      <th>date_block_num</th>\n",
       "      <th>shop_id</th>\n",
       "      <th>item_id</th>\n",
       "      <th>target</th>\n",
       "      <th>super_shop_id</th>\n",
       "      <th>item_category_id</th>\n",
       "      <th>super_category_id</th>\n",
       "      <th>target_shop</th>\n",
       "      <th>target_super_shop</th>\n",
       "      <th>target_item</th>\n",
       "      <th>target_category</th>\n",
       "      <th>target_super_category</th>\n",
       "    </tr>\n",
       "  </thead>\n",
       "  <tbody>\n",
       "    <tr>\n",
       "      <th>0</th>\n",
       "      <td>0</td>\n",
       "      <td>0</td>\n",
       "      <td>32</td>\n",
       "      <td>6.0</td>\n",
       "      <td>0</td>\n",
       "      <td>40</td>\n",
       "      <td>7</td>\n",
       "      <td>5411.0</td>\n",
       "      <td>8343.0</td>\n",
       "      <td>27.0</td>\n",
       "      <td>5216.0</td>\n",
       "      <td>6641.0</td>\n",
       "    </tr>\n",
       "    <tr>\n",
       "      <th>1</th>\n",
       "      <td>0</td>\n",
       "      <td>0</td>\n",
       "      <td>33</td>\n",
       "      <td>3.0</td>\n",
       "      <td>0</td>\n",
       "      <td>37</td>\n",
       "      <td>7</td>\n",
       "      <td>5411.0</td>\n",
       "      <td>8343.0</td>\n",
       "      <td>8.0</td>\n",
       "      <td>933.0</td>\n",
       "      <td>6641.0</td>\n",
       "    </tr>\n",
       "    <tr>\n",
       "      <th>2</th>\n",
       "      <td>0</td>\n",
       "      <td>0</td>\n",
       "      <td>35</td>\n",
       "      <td>1.0</td>\n",
       "      <td>0</td>\n",
       "      <td>40</td>\n",
       "      <td>7</td>\n",
       "      <td>5411.0</td>\n",
       "      <td>8343.0</td>\n",
       "      <td>5.0</td>\n",
       "      <td>5216.0</td>\n",
       "      <td>6641.0</td>\n",
       "    </tr>\n",
       "    <tr>\n",
       "      <th>3</th>\n",
       "      <td>0</td>\n",
       "      <td>0</td>\n",
       "      <td>43</td>\n",
       "      <td>1.0</td>\n",
       "      <td>0</td>\n",
       "      <td>40</td>\n",
       "      <td>7</td>\n",
       "      <td>5411.0</td>\n",
       "      <td>8343.0</td>\n",
       "      <td>1.0</td>\n",
       "      <td>5216.0</td>\n",
       "      <td>6641.0</td>\n",
       "    </tr>\n",
       "    <tr>\n",
       "      <th>4</th>\n",
       "      <td>0</td>\n",
       "      <td>0</td>\n",
       "      <td>51</td>\n",
       "      <td>2.0</td>\n",
       "      <td>0</td>\n",
       "      <td>57</td>\n",
       "      <td>9</td>\n",
       "      <td>5411.0</td>\n",
       "      <td>8343.0</td>\n",
       "      <td>3.0</td>\n",
       "      <td>195.0</td>\n",
       "      <td>2193.0</td>\n",
       "    </tr>\n",
       "  </tbody>\n",
       "</table>\n",
       "</div>"
      ],
      "text/plain": [
       "   date_block_num  shop_id  item_id  target  super_shop_id  item_category_id  \\\n",
       "0               0        0       32     6.0              0                40   \n",
       "1               0        0       33     3.0              0                37   \n",
       "2               0        0       35     1.0              0                40   \n",
       "3               0        0       43     1.0              0                40   \n",
       "4               0        0       51     2.0              0                57   \n",
       "\n",
       "   super_category_id  target_shop  target_super_shop  target_item  \\\n",
       "0                  7       5411.0             8343.0         27.0   \n",
       "1                  7       5411.0             8343.0          8.0   \n",
       "2                  7       5411.0             8343.0          5.0   \n",
       "3                  7       5411.0             8343.0          1.0   \n",
       "4                  9       5411.0             8343.0          3.0   \n",
       "\n",
       "   target_category  target_super_category  \n",
       "0           5216.0                 6641.0  \n",
       "1            933.0                 6641.0  \n",
       "2           5216.0                 6641.0  \n",
       "3           5216.0                 6641.0  \n",
       "4            195.0                 2193.0  "
      ]
     },
     "execution_count": 12,
     "metadata": {},
     "output_type": "execute_result"
    }
   ],
   "source": [
    "from tqdm import tqdm_notebook\n",
    "all_data = build_features.create_grid(\n",
    "    pd.concat([\n",
    "        train.rename(columns={'item_cnt_month' : 'target'}),\n",
    "        test.assign(date_block_num=max_train_date_block_num+1).drop(columns=['ID'])],\n",
    "        ignore_index=True, sort=False),\n",
    "    shops, items, categories,\n",
    "    COLUMNS.KEYS_AND_TIME,\n",
    "    tqdm_notebook)\n",
    "print(len(all_data))\n",
    "all_data.head()"
   ]
  },
  {
   "cell_type": "code",
   "execution_count": 13,
   "metadata": {},
   "outputs": [
    {
     "name": "stdout",
     "output_type": "stream",
     "text": [
      "Saving ../data/interim/CC-Labs-hv_grid.h5\n"
     ]
    },
    {
     "data": {
      "text/plain": [
       "40"
      ]
     },
     "execution_count": 13,
     "metadata": {},
     "output_type": "execute_result"
    }
   ],
   "source": [
    "io.save_data(FOLDERS.INTERIM, CTX + 'grid', all_data)\n",
    "del all_data\n",
    "gc.collect()"
   ]
  },
  {
   "cell_type": "markdown",
   "metadata": {},
   "source": [
    "# Create lags"
   ]
  },
  {
   "cell_type": "code",
   "execution_count": 14,
   "metadata": {},
   "outputs": [
    {
     "name": "stdout",
     "output_type": "stream",
     "text": [
      "Loading ../data/interim/CC-Labs-hv_grid.h5\n"
     ]
    }
   ],
   "source": [
    "all_data = io.load_data(FOLDERS.INTERIM, CTX + 'grid', pd.DataFrame())"
   ]
  },
  {
   "cell_type": "code",
   "execution_count": 15,
   "metadata": {},
   "outputs": [
    {
     "data": {
      "application/vnd.jupyter.widget-view+json": {
       "model_id": "cd3a93ae21864ca3bff8c0b75da61090",
       "version_major": 2,
       "version_minor": 0
      },
      "text/plain": [
       "HBox(children=(IntProgress(value=0, max=6), HTML(value='')))"
      ]
     },
     "metadata": {},
     "output_type": "display_data"
    },
    {
     "name": "stdout",
     "output_type": "stream",
     "text": [
      "\n"
     ]
    },
    {
     "data": {
      "text/html": [
       "<div>\n",
       "<style scoped>\n",
       "    .dataframe tbody tr th:only-of-type {\n",
       "        vertical-align: middle;\n",
       "    }\n",
       "\n",
       "    .dataframe tbody tr th {\n",
       "        vertical-align: top;\n",
       "    }\n",
       "\n",
       "    .dataframe thead th {\n",
       "        text-align: right;\n",
       "    }\n",
       "</style>\n",
       "<table border=\"1\" class=\"dataframe\">\n",
       "  <thead>\n",
       "    <tr style=\"text-align: right;\">\n",
       "      <th></th>\n",
       "      <th>date_block_num</th>\n",
       "      <th>shop_id</th>\n",
       "      <th>item_id</th>\n",
       "      <th>target</th>\n",
       "      <th>super_shop_id</th>\n",
       "      <th>item_category_id</th>\n",
       "      <th>super_category_id</th>\n",
       "      <th>target_shop</th>\n",
       "      <th>target_super_shop</th>\n",
       "      <th>target_item</th>\n",
       "      <th>...</th>\n",
       "      <th>target_item_lag_5</th>\n",
       "      <th>target_shop_lag_5</th>\n",
       "      <th>target_super_category_lag_5</th>\n",
       "      <th>target_super_shop_lag_5</th>\n",
       "      <th>target_lag_12</th>\n",
       "      <th>target_category_lag_12</th>\n",
       "      <th>target_item_lag_12</th>\n",
       "      <th>target_shop_lag_12</th>\n",
       "      <th>target_super_category_lag_12</th>\n",
       "      <th>target_super_shop_lag_12</th>\n",
       "    </tr>\n",
       "  </thead>\n",
       "  <tbody>\n",
       "    <tr>\n",
       "      <th>0</th>\n",
       "      <td>0</td>\n",
       "      <td>0</td>\n",
       "      <td>32</td>\n",
       "      <td>6.0</td>\n",
       "      <td>0</td>\n",
       "      <td>40</td>\n",
       "      <td>7</td>\n",
       "      <td>5411.0</td>\n",
       "      <td>8343.0</td>\n",
       "      <td>27.0</td>\n",
       "      <td>...</td>\n",
       "      <td>0.0</td>\n",
       "      <td>0.0</td>\n",
       "      <td>0.0</td>\n",
       "      <td>0.0</td>\n",
       "      <td>0.0</td>\n",
       "      <td>0.0</td>\n",
       "      <td>0.0</td>\n",
       "      <td>0.0</td>\n",
       "      <td>0.0</td>\n",
       "      <td>0.0</td>\n",
       "    </tr>\n",
       "    <tr>\n",
       "      <th>1</th>\n",
       "      <td>0</td>\n",
       "      <td>0</td>\n",
       "      <td>33</td>\n",
       "      <td>3.0</td>\n",
       "      <td>0</td>\n",
       "      <td>37</td>\n",
       "      <td>7</td>\n",
       "      <td>5411.0</td>\n",
       "      <td>8343.0</td>\n",
       "      <td>8.0</td>\n",
       "      <td>...</td>\n",
       "      <td>0.0</td>\n",
       "      <td>0.0</td>\n",
       "      <td>0.0</td>\n",
       "      <td>0.0</td>\n",
       "      <td>0.0</td>\n",
       "      <td>0.0</td>\n",
       "      <td>0.0</td>\n",
       "      <td>0.0</td>\n",
       "      <td>0.0</td>\n",
       "      <td>0.0</td>\n",
       "    </tr>\n",
       "    <tr>\n",
       "      <th>2</th>\n",
       "      <td>0</td>\n",
       "      <td>0</td>\n",
       "      <td>35</td>\n",
       "      <td>1.0</td>\n",
       "      <td>0</td>\n",
       "      <td>40</td>\n",
       "      <td>7</td>\n",
       "      <td>5411.0</td>\n",
       "      <td>8343.0</td>\n",
       "      <td>5.0</td>\n",
       "      <td>...</td>\n",
       "      <td>0.0</td>\n",
       "      <td>0.0</td>\n",
       "      <td>0.0</td>\n",
       "      <td>0.0</td>\n",
       "      <td>0.0</td>\n",
       "      <td>0.0</td>\n",
       "      <td>0.0</td>\n",
       "      <td>0.0</td>\n",
       "      <td>0.0</td>\n",
       "      <td>0.0</td>\n",
       "    </tr>\n",
       "    <tr>\n",
       "      <th>3</th>\n",
       "      <td>0</td>\n",
       "      <td>0</td>\n",
       "      <td>43</td>\n",
       "      <td>1.0</td>\n",
       "      <td>0</td>\n",
       "      <td>40</td>\n",
       "      <td>7</td>\n",
       "      <td>5411.0</td>\n",
       "      <td>8343.0</td>\n",
       "      <td>1.0</td>\n",
       "      <td>...</td>\n",
       "      <td>0.0</td>\n",
       "      <td>0.0</td>\n",
       "      <td>0.0</td>\n",
       "      <td>0.0</td>\n",
       "      <td>0.0</td>\n",
       "      <td>0.0</td>\n",
       "      <td>0.0</td>\n",
       "      <td>0.0</td>\n",
       "      <td>0.0</td>\n",
       "      <td>0.0</td>\n",
       "    </tr>\n",
       "    <tr>\n",
       "      <th>4</th>\n",
       "      <td>0</td>\n",
       "      <td>0</td>\n",
       "      <td>51</td>\n",
       "      <td>2.0</td>\n",
       "      <td>0</td>\n",
       "      <td>57</td>\n",
       "      <td>9</td>\n",
       "      <td>5411.0</td>\n",
       "      <td>8343.0</td>\n",
       "      <td>3.0</td>\n",
       "      <td>...</td>\n",
       "      <td>0.0</td>\n",
       "      <td>0.0</td>\n",
       "      <td>0.0</td>\n",
       "      <td>0.0</td>\n",
       "      <td>0.0</td>\n",
       "      <td>0.0</td>\n",
       "      <td>0.0</td>\n",
       "      <td>0.0</td>\n",
       "      <td>0.0</td>\n",
       "      <td>0.0</td>\n",
       "    </tr>\n",
       "  </tbody>\n",
       "</table>\n",
       "<p>5 rows × 48 columns</p>\n",
       "</div>"
      ],
      "text/plain": [
       "   date_block_num  shop_id  item_id  target  super_shop_id  item_category_id  \\\n",
       "0               0        0       32     6.0              0                40   \n",
       "1               0        0       33     3.0              0                37   \n",
       "2               0        0       35     1.0              0                40   \n",
       "3               0        0       43     1.0              0                40   \n",
       "4               0        0       51     2.0              0                57   \n",
       "\n",
       "   super_category_id  target_shop  target_super_shop  target_item  \\\n",
       "0                  7       5411.0             8343.0         27.0   \n",
       "1                  7       5411.0             8343.0          8.0   \n",
       "2                  7       5411.0             8343.0          5.0   \n",
       "3                  7       5411.0             8343.0          1.0   \n",
       "4                  9       5411.0             8343.0          3.0   \n",
       "\n",
       "             ...             target_item_lag_5  target_shop_lag_5  \\\n",
       "0            ...                           0.0                0.0   \n",
       "1            ...                           0.0                0.0   \n",
       "2            ...                           0.0                0.0   \n",
       "3            ...                           0.0                0.0   \n",
       "4            ...                           0.0                0.0   \n",
       "\n",
       "   target_super_category_lag_5  target_super_shop_lag_5  target_lag_12  \\\n",
       "0                          0.0                      0.0            0.0   \n",
       "1                          0.0                      0.0            0.0   \n",
       "2                          0.0                      0.0            0.0   \n",
       "3                          0.0                      0.0            0.0   \n",
       "4                          0.0                      0.0            0.0   \n",
       "\n",
       "   target_category_lag_12  target_item_lag_12  target_shop_lag_12  \\\n",
       "0                     0.0                 0.0                 0.0   \n",
       "1                     0.0                 0.0                 0.0   \n",
       "2                     0.0                 0.0                 0.0   \n",
       "3                     0.0                 0.0                 0.0   \n",
       "4                     0.0                 0.0                 0.0   \n",
       "\n",
       "   target_super_category_lag_12  target_super_shop_lag_12  \n",
       "0                           0.0                       0.0  \n",
       "1                           0.0                       0.0  \n",
       "2                           0.0                       0.0  \n",
       "3                           0.0                       0.0  \n",
       "4                           0.0                       0.0  \n",
       "\n",
       "[5 rows x 48 columns]"
      ]
     },
     "execution_count": 15,
     "metadata": {},
     "output_type": "execute_result"
    }
   ],
   "source": [
    "lagged_data, to_drop_cols = build_features.create_lags(\n",
    "    all_data,\n",
    "    COLUMNS.KEYS_AND_TIME + COLUMNS.DERIVED_KEYS,\n",
    "    tqdm_notebook)\n",
    "lagged_data.head()"
   ]
  },
  {
   "cell_type": "code",
   "execution_count": 16,
   "metadata": {},
   "outputs": [
    {
     "data": {
      "text/html": [
       "<div>\n",
       "<style scoped>\n",
       "    .dataframe tbody tr th:only-of-type {\n",
       "        vertical-align: middle;\n",
       "    }\n",
       "\n",
       "    .dataframe tbody tr th {\n",
       "        vertical-align: top;\n",
       "    }\n",
       "\n",
       "    .dataframe thead th {\n",
       "        text-align: right;\n",
       "    }\n",
       "</style>\n",
       "<table border=\"1\" class=\"dataframe\">\n",
       "  <thead>\n",
       "    <tr style=\"text-align: right;\">\n",
       "      <th></th>\n",
       "      <th>col_name</th>\n",
       "    </tr>\n",
       "  </thead>\n",
       "  <tbody>\n",
       "    <tr>\n",
       "      <th>0</th>\n",
       "      <td>target_super_category</td>\n",
       "    </tr>\n",
       "    <tr>\n",
       "      <th>1</th>\n",
       "      <td>target_category</td>\n",
       "    </tr>\n",
       "    <tr>\n",
       "      <th>2</th>\n",
       "      <td>target_item</td>\n",
       "    </tr>\n",
       "    <tr>\n",
       "      <th>3</th>\n",
       "      <td>target_shop</td>\n",
       "    </tr>\n",
       "    <tr>\n",
       "      <th>4</th>\n",
       "      <td>target_super_shop</td>\n",
       "    </tr>\n",
       "  </tbody>\n",
       "</table>\n",
       "</div>"
      ],
      "text/plain": [
       "                col_name\n",
       "0  target_super_category\n",
       "1        target_category\n",
       "2            target_item\n",
       "3            target_shop\n",
       "4      target_super_shop"
      ]
     },
     "execution_count": 16,
     "metadata": {},
     "output_type": "execute_result"
    }
   ],
   "source": [
    "to_drop_cols = pd.DataFrame(to_drop_cols, columns=['col_name'])\n",
    "to_drop_cols.head()"
   ]
  },
  {
   "cell_type": "code",
   "execution_count": 17,
   "metadata": {},
   "outputs": [
    {
     "data": {
      "text/plain": [
       "7"
      ]
     },
     "execution_count": 17,
     "metadata": {},
     "output_type": "execute_result"
    }
   ],
   "source": [
    "del all_data\n",
    "gc.collect()"
   ]
  },
  {
   "cell_type": "code",
   "execution_count": 18,
   "metadata": {},
   "outputs": [
    {
     "name": "stdout",
     "output_type": "stream",
     "text": [
      "Saving ../data/interim/CC-Labs-hv_lagged_data.h5\n",
      "Saving ../data/interim/CC-Labs-hv_to_drop_cols.h5\n"
     ]
    },
    {
     "data": {
      "text/plain": [
       "55"
      ]
     },
     "execution_count": 18,
     "metadata": {},
     "output_type": "execute_result"
    }
   ],
   "source": [
    "io.save_data(FOLDERS.INTERIM, CTX + 'lagged_data', lagged_data)\n",
    "io.save_data(FOLDERS.INTERIM, CTX + 'to_drop_cols', to_drop_cols)\n",
    "del lagged_data, to_drop_cols\n",
    "gc.collect()"
   ]
  },
  {
   "cell_type": "markdown",
   "metadata": {},
   "source": [
    "# Encode and normalize"
   ]
  },
  {
   "cell_type": "code",
   "execution_count": 19,
   "metadata": {},
   "outputs": [
    {
     "name": "stdout",
     "output_type": "stream",
     "text": [
      "Loading ../data/interim/CC-Labs-hv_lagged_data.h5\n",
      "Loading ../data/interim/CC-Labs-hv_to_drop_cols.h5\n"
     ]
    }
   ],
   "source": [
    "lagged_data = io.load_data(FOLDERS.INTERIM, CTX + 'lagged_data', pd.DataFrame())\n",
    "to_drop_cols = io.load_data(FOLDERS.INTERIM, CTX + 'to_drop_cols', pd.DataFrame())"
   ]
  },
  {
   "cell_type": "code",
   "execution_count": 20,
   "metadata": {},
   "outputs": [
    {
     "name": "stdout",
     "output_type": "stream",
     "text": [
      "['target_category_lag_1', 'target_category_lag_12', 'target_category_lag_2', 'target_category_lag_3', 'target_category_lag_4', 'target_category_lag_5', 'target_item_lag_1', 'target_item_lag_12', 'target_item_lag_2', 'target_item_lag_3', 'target_item_lag_4', 'target_item_lag_5', 'target_lag_1', 'target_lag_12', 'target_lag_2', 'target_lag_3', 'target_lag_4', 'target_lag_5', 'target_shop_lag_1', 'target_shop_lag_12', 'target_shop_lag_2', 'target_shop_lag_3', 'target_shop_lag_4', 'target_shop_lag_5', 'target_super_category_lag_1', 'target_super_category_lag_12', 'target_super_category_lag_2', 'target_super_category_lag_3', 'target_super_category_lag_4', 'target_super_category_lag_5', 'target_super_shop_lag_1', 'target_super_shop_lag_12', 'target_super_shop_lag_2', 'target_super_shop_lag_3', 'target_super_shop_lag_4', 'target_super_shop_lag_5']\n"
     ]
    }
   ],
   "source": [
    "numeric_features = sorted(list(set(list(lagged_data.columns.values)) \n",
    "                               - set(to_drop_cols.col_name.values) - set(COLUMNS.KEYS_AND_TIME) - set(COLUMNS.DERIVED_KEYS) - set(['item_category_id'])))\n",
    "print(numeric_features)"
   ]
  },
  {
   "cell_type": "code",
   "execution_count": 21,
   "metadata": {},
   "outputs": [
    {
     "name": "stdout",
     "output_type": "stream",
     "text": [
      "['shop_id', 'super_shop_id', 'item_category_id', 'super_category_id']\n"
     ]
    }
   ],
   "source": [
    "#categorical_features = list(set(index_cols + ['item_category_id']) - set(['date_block_num']))\n",
    "categorical_features = ['shop_id'] + COLUMNS.DERIVED_KEYS\n",
    "print(categorical_features)"
   ]
  },
  {
   "cell_type": "code",
   "execution_count": 27,
   "metadata": {},
   "outputs": [],
   "source": [
    "mapper = build_features.create_mapper(categorical_features, numeric_features)\n",
    "mapped_data = mapper.fit_transform(lagged_data.drop(to_drop_cols.col_name.values, axis=1)).astype(np.float32)\n",
    "#mapper.transformed_names_"
   ]
  },
  {
   "cell_type": "code",
   "execution_count": 28,
   "metadata": {},
   "outputs": [
    {
     "data": {
      "text/plain": [
       "dtype('float32')"
      ]
     },
     "execution_count": 28,
     "metadata": {},
     "output_type": "execute_result"
    }
   ],
   "source": [
    "mapped_data.dtype"
   ]
  },
  {
   "cell_type": "code",
   "execution_count": 29,
   "metadata": {},
   "outputs": [],
   "source": [
    "#train = lagged_data.loc[lagged_data.date_block_num <= max_train_date_block_num]\n",
    "#test_lagged = lagged_data.loc[lagged_data.date_block_num == max_train_date_block_num + 1]\n",
    "train_indices = lagged_data.date_block_num <= max_train_date_block_num\n",
    "test_indices = lagged_data.date_block_num == max_train_date_block_num + 1"
   ]
  },
  {
   "cell_type": "code",
   "execution_count": 30,
   "metadata": {},
   "outputs": [],
   "source": [
    "X_train = mapped_data[train_indices]\n",
    "X_test = mapped_data[test_indices]\n",
    "\n",
    "target_col = 'target'\n",
    "y_train = lagged_data.loc[train_indices, [target_col]].values.ravel()"
   ]
  },
  {
   "cell_type": "code",
   "execution_count": 31,
   "metadata": {},
   "outputs": [],
   "source": [
    "dates_train=lagged_data.loc[train_indices,['date_block_num']]\n",
    "#dates_train.head()\n",
    "predictions = lagged_data.loc[test_indices, ['shop_id', 'item_id']]\n",
    "#predictions.head()"
   ]
  },
  {
   "cell_type": "code",
   "execution_count": 32,
   "metadata": {},
   "outputs": [
    {
     "name": "stdout",
     "output_type": "stream",
     "text": [
      "Saving ../data/processed/CC-Labs-hv_X_train.h5\n",
      "Saving ../data/processed/CC-Labs-hv_X_test.h5\n",
      "Saving ../data/processed/CC-Labs-hv_y_train.h5\n",
      "Saving ../data/processed/CC-Labs-hv_dates_train.h5\n",
      "Saving ../data/processed/CC-Labs-hv_predictions.h5\n"
     ]
    }
   ],
   "source": [
    "io.save_data(FOLDERS.PROCESSED, CTX + 'X_train', X_train)\n",
    "io.save_data(FOLDERS.PROCESSED, CTX + 'X_test', X_test)\n",
    "io.save_data(FOLDERS.PROCESSED, CTX + 'y_train', y_train)\n",
    "io.save_data(FOLDERS.PROCESSED, CTX + 'dates_train', dates_train)\n",
    "io.save_data(FOLDERS.PROCESSED, CTX + 'predictions', predictions)"
   ]
  },
  {
   "cell_type": "code",
   "execution_count": 33,
   "metadata": {},
   "outputs": [
    {
     "data": {
      "text/plain": [
       "94"
      ]
     },
     "execution_count": 33,
     "metadata": {},
     "output_type": "execute_result"
    }
   ],
   "source": [
    "del lagged_data\n",
    "del mapped_data\n",
    "gc.collect()"
   ]
  },
  {
   "cell_type": "code",
   "execution_count": 35,
   "metadata": {},
   "outputs": [
    {
     "data": {
      "text/plain": [
       "array([[ 1.0000000e+00,  0.0000000e+00,  0.0000000e+00, ...,\n",
       "        -5.1965910e-01, -4.9160501e-01,  3.2000000e+01],\n",
       "       [ 1.0000000e+00,  0.0000000e+00,  0.0000000e+00, ...,\n",
       "        -5.1965910e-01, -4.9160501e-01,  3.3000000e+01],\n",
       "       [ 1.0000000e+00,  0.0000000e+00,  0.0000000e+00, ...,\n",
       "        -5.1965910e-01, -4.9160501e-01,  3.5000000e+01],\n",
       "       ...,\n",
       "       [ 0.0000000e+00,  0.0000000e+00,  0.0000000e+00, ...,\n",
       "        -5.1965910e-01, -4.9160501e-01,  2.1682000e+04],\n",
       "       [ 0.0000000e+00,  0.0000000e+00,  0.0000000e+00, ...,\n",
       "        -5.1965910e-01, -4.9160501e-01,  2.1843000e+04],\n",
       "       [ 0.0000000e+00,  0.0000000e+00,  0.0000000e+00, ...,\n",
       "        -2.5105155e-01, -2.2498226e-01,  2.1929000e+04]], dtype=float32)"
      ]
     },
     "execution_count": 35,
     "metadata": {},
     "output_type": "execute_result"
    }
   ],
   "source": [
    "X_train"
   ]
  },
  {
   "cell_type": "code",
   "execution_count": null,
   "metadata": {},
   "outputs": [],
   "source": []
  }
 ],
 "metadata": {
  "kernelspec": {
   "display_name": "Python 3",
   "language": "python",
   "name": "python3"
  },
  "language_info": {
   "codemirror_mode": {
    "name": "ipython",
    "version": 3
   },
   "file_extension": ".py",
   "mimetype": "text/x-python",
   "name": "python",
   "nbconvert_exporter": "python",
   "pygments_lexer": "ipython3",
   "version": "3.6.8"
  }
 },
 "nbformat": 4,
 "nbformat_minor": 2
}
