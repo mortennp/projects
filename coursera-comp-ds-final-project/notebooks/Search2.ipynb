{
 "cells": [
  {
   "cell_type": "code",
   "execution_count": 1,
   "metadata": {},
   "outputs": [],
   "source": [
    "import os\n",
    "import numpy as np\n",
    "import pandas as pd\n",
    "import sklearn as skl\n",
    "import xgboost as xgb\n",
    "pd.set_option('display.max_rows', 600)\n",
    "pd.set_option('display.max_columns', 50)\n",
    "np.set_printoptions(edgeitems=100)\n",
    "\n",
    "#import matplotlib as mpl\n",
    "import matplotlib.pyplot as plt\n",
    "#import matplotlib.dates as mdates\n",
    "%matplotlib inline \n",
    "\n",
    "from tqdm import tqdm_notebook\n",
    "from itertools import product\n",
    "\n",
    "from IPython.core.interactiveshell import InteractiveShell\n",
    "InteractiveShell.ast_node_interactivity = \"all\"\n",
    "\n",
    "import gc"
   ]
  },
  {
   "cell_type": "code",
   "execution_count": 2,
   "metadata": {},
   "outputs": [
    {
     "name": "stdout",
     "output_type": "stream",
     "text": [
      "numpy 1.14.5\n",
      "pandas 0.23.0\n",
      "sklearn 0.19.1\n",
      "xgboost 0.80\n"
     ]
    }
   ],
   "source": [
    "for p in [np, pd, skl, xgb]:\n",
    "    print (p.__name__, p.__version__)"
   ]
  },
  {
   "cell_type": "code",
   "execution_count": 3,
   "metadata": {},
   "outputs": [],
   "source": [
    "seed = 123\n",
    "ctx = 'Search2_shop_id_item_id_one_hot_float32_'"
   ]
  },
  {
   "cell_type": "code",
   "execution_count": 4,
   "metadata": {},
   "outputs": [],
   "source": [
    "def downcast_dtypes(df):\n",
    "    '''\n",
    "        Changes column types in the dataframe: \n",
    "                \n",
    "                `float64` type to `float32`\n",
    "                `int64`   type to `int32`\n",
    "    '''\n",
    "    \n",
    "    # Select columns to downcast\n",
    "    float_cols = [c for c in df if df[c].dtype == \"float64\"]\n",
    "    int_cols =   [c for c in df if df[c].dtype == \"int64\"]\n",
    "    \n",
    "    # Downcast\n",
    "    df[float_cols] = df[float_cols].astype(np.float32)\n",
    "    df[int_cols]   = df[int_cols].astype(np.int32)\n",
    "    \n",
    "    return df"
   ]
  },
  {
   "cell_type": "code",
   "execution_count": 5,
   "metadata": {},
   "outputs": [],
   "source": [
    "from sklearn.metrics import mean_squared_error, r2_score\n",
    "\n",
    "def score(est, ground_truths, predictions):\n",
    "    print(est)\n",
    "    print('RMSE is %f' % np.sqrt(mean_squared_error(ground_truths, predictions)))\n",
    "    print('R-squared is %f' % r2_score(ground_truths, predictions))    "
   ]
  },
  {
   "cell_type": "code",
   "execution_count": 8,
   "metadata": {},
   "outputs": [],
   "source": [
    "import h5py\n",
    "\n",
    "CACHE_FOLDER = './cache/'\n",
    "KEY = 'dataset_1'\n",
    "\n",
    "def save_data(filename, data):\n",
    "    path = str(os.path.join(CACHE_FOLDER, filename) + '.h5')\n",
    "    print('Saving ' + path)\n",
    "    if isinstance(data, pd.DataFrame):\n",
    "        data.to_hdf(path, KEY, mode='w')\n",
    "    elif isinstance(data, np.ndarray):\n",
    "        with h5py.File(path, 'w') as f:\n",
    "            f.create_dataset(KEY, data=data)\n",
    "    else:\n",
    "        raise('Not supported')\n",
    "    \n",
    "def load_data(filename, hint):\n",
    "    path = str(os.path.join(CACHE_FOLDER, filename) + '.h5')\n",
    "    print('Loading ' + path)\n",
    "    if isinstance(hint, pd.DataFrame):\n",
    "        data = pd.read_hdf(path, KEY)\n",
    "    elif isinstance(hint, np.ndarray):\n",
    "        with h5py.File(path,'r') as f:\n",
    "            data = f[KEY][:]\n",
    "    else:\n",
    "        raise('Not supported')\n",
    "        \n",
    "    return data"
   ]
  },
  {
   "cell_type": "code",
   "execution_count": 78,
   "metadata": {},
   "outputs": [],
   "source": [
    "from joblib import dump, load\n",
    "from keras.wrappers.scikit_learn import KerasRegressor\n",
    "from keras.models import load_model as keras_load_model\n",
    "\n",
    "MODEL_FOLDER = './models/'\n",
    "\n",
    "def save_model(filename, model):\n",
    "    path = str(os.path.join(MODEL_FOLDER, filename) + '.jlib')\n",
    "    print('Saving ' + path)    \n",
    "    if isinstance(model, KerasRegressor):\n",
    "        model.model.save(path)\n",
    "    else:\n",
    "        dump(model, path)        \n",
    "        \n",
    "def load_model(filename, hint):\n",
    "    path = str(os.path.join(MODEL_FOLDER, filename) + '.jlib')\n",
    "    print('Loading ' + path)\n",
    "    if isinstance(hint, KerasRegressor):\n",
    "        model = keras_load_model(path)\n",
    "    else:\n",
    "        model = load(path)\n",
    "        \n",
    "    return model        "
   ]
  },
  {
   "cell_type": "code",
   "execution_count": 18,
   "metadata": {},
   "outputs": [],
   "source": [
    "DATA_FOLDER = './data/'\n",
    "\n",
    "sales = pd.read_csv(os.path.join(DATA_FOLDER, 'sales_train.csv.gz'))\n",
    "test = pd.read_csv(os.path.join(DATA_FOLDER, 'test.csv.gz'))\n",
    "items = pd.read_csv(os.path.join(DATA_FOLDER, 'items.csv'))\n",
    "categories = pd.read_csv(os.path.join(DATA_FOLDER, 'item_categories.csv'))\n",
    "shops = pd.read_csv(os.path.join(DATA_FOLDER, 'shops.csv'))"
   ]
  },
  {
   "cell_type": "code",
   "execution_count": 19,
   "metadata": {},
   "outputs": [
    {
     "data": {
      "text/plain": [
       "33"
      ]
     },
     "execution_count": 19,
     "metadata": {},
     "output_type": "execute_result"
    }
   ],
   "source": [
    "max_train_date_block_num = sales.date_block_num.max()\n",
    "max_train_date_block_num"
   ]
  },
  {
   "cell_type": "markdown",
   "metadata": {},
   "source": [
    "import nltk\n",
    "#nltk.download('punkt')\n",
    "\n",
    "tokenizer = nltk.data.load('tokenizers/punkt/russian.pickle')\n",
    "items['tokenized_name'] = items.apply(lambda row: tokenizer.tokenize(row['item_name']), axis=1)"
   ]
  },
  {
   "cell_type": "markdown",
   "metadata": {},
   "source": [
    "from gensim.models import Word2Vec\n",
    "w2v_item_name = Word2Vec(items.tokenized_name, min_count=1)"
   ]
  },
  {
   "cell_type": "markdown",
   "metadata": {},
   "source": [
    "items['embedded_name'] = items.apply(lambda row: np.array[w2v_item_name[word] for word in row['tokenized_name']])"
   ]
  },
  {
   "cell_type": "markdown",
   "metadata": {},
   "source": [
    "from gensim.models import Word2Vec\n",
    "docs = items.tokenized_names\n",
    "w2v_item_names = Word2Vec(\n",
    "        docs,\n",
    "        size=150,\n",
    "        window=10,\n",
    "        min_count=2,\n",
    "        workers=10)\n",
    "w2v_item_names(docs, total_examples=len(documents), epochs=10)"
   ]
  },
  {
   "cell_type": "code",
   "execution_count": null,
   "metadata": {},
   "outputs": [],
   "source": [
    "item_category_mapping = items[['item_id','item_category_id']].drop_duplicates()\n",
    "index_cols = ['shop_id', 'item_id', 'date_block_num']"
   ]
  },
  {
   "cell_type": "code",
   "execution_count": null,
   "metadata": {},
   "outputs": [],
   "source": [
    "def create_grid(sales, index_cols):\n",
    "    from tqdm import tqdm_notebook\n",
    "    \n",
    "    # For every month we create a grid from all shops/items combinations from that month\n",
    "    grid = [] \n",
    "    for block_num in tqdm_notebook(sales['date_block_num'].unique()):\n",
    "        cur_shops = sales.loc[sales['date_block_num'] == block_num, 'shop_id'].unique()\n",
    "        cur_items = sales.loc[sales['date_block_num'] == block_num, 'item_id'].unique()\n",
    "        grid.append(np.array(list(product(*[cur_shops, cur_items, [block_num]])),dtype='int32'))\n",
    "\n",
    "    # Turn the grid into a dataframe\n",
    "    grid = pd.DataFrame(np.vstack(grid), columns = index_cols,dtype=np.int32)\n",
    "\n",
    "    # Groupby data to get shop-item-month aggregates\n",
    "    gb = sales.groupby(index_cols,as_index=False).agg({'item_cnt_day':{'target':'sum'}})\n",
    "    # Fix column names\n",
    "    gb.columns = [col[0] if col[-1]=='' else col[-1] for col in gb.columns.values] \n",
    "    # Clip\n",
    "    gb.target = gb.target.clip(0,20) #TODO\n",
    "    # Join it to the grid    \n",
    "    all_data = pd.merge(grid, gb, how='left', on=index_cols).fillna(0)\n",
    "\n",
    "    # Same as above but with shop-month aggregates\n",
    "    gb = sales.groupby(['shop_id', 'date_block_num'],as_index=False).agg({'item_cnt_day':{'target_shop':'sum'}})\n",
    "    gb.columns = [col[0] if col[-1]=='' else col[-1] for col in gb.columns.values]\n",
    "    all_data = pd.merge(all_data, gb, how='left', on=['shop_id', 'date_block_num']).fillna(0)\n",
    "\n",
    "    # Same as above but with item-month aggregates\n",
    "    gb = sales.groupby(['item_id', 'date_block_num'],as_index=False).agg({'item_cnt_day':{'target_item':'sum'}})\n",
    "    gb.columns = [col[0] if col[-1] == '' else col[-1] for col in gb.columns.values]\n",
    "    all_data = pd.merge(all_data, gb, how='left', on=['item_id', 'date_block_num']).fillna(0)\n",
    "\n",
    "    # Same as above but with category-month aggregates\n",
    "    all_data = pd.merge(all_data, item_category_mapping, how='left', on='item_id')\n",
    "    \n",
    "    gb = pd.merge(sales, item_category_mapping, how='left', on='item_id')\n",
    "    gb = gb.groupby(['item_category_id', 'date_block_num'],as_index=False).agg({'item_cnt_day':{'target_category':'sum'}})\n",
    "    gb.columns = [col[0] if col[-1] == '' else col[-1] for col in gb.columns.values]\n",
    "    all_data = pd.merge(all_data, gb, how='left', on=['item_category_id', 'date_block_num']).fillna(0)\n",
    "    all_data = all_data.drop(['item_category_id'], axis=1)\n",
    "\n",
    "    # Downcast dtypes from 64 to 32 bit to save memory\n",
    "    all_data = downcast_dtypes(all_data)\n",
    "    del grid, gb \n",
    "    gc.collect();\n",
    "    \n",
    "    return all_data"
   ]
  },
  {
   "cell_type": "code",
   "execution_count": null,
   "metadata": {},
   "outputs": [],
   "source": [
    "all_data = create_grid(\n",
    "    pd.concat(\n",
    "        [sales, test.assign(date_block_num=max_train_date_block_num+1)],\n",
    "        ignore_index=True, sort=False),\n",
    "    index_cols)\n",
    "all_data.head()"
   ]
  },
  {
   "cell_type": "code",
   "execution_count": null,
   "metadata": {},
   "outputs": [],
   "source": [
    "def create_lags(all_data, shift_range = [1, 2, 3, 4, 5, 12]):\n",
    "   \n",
    "    lagged_data = all_data.copy()\n",
    "    \n",
    "    # List of columns that we will use to create lags\n",
    "    cols_to_rename = list(lagged_data.columns.difference(index_cols))    \n",
    "\n",
    "    for month_shift in tqdm_notebook(shift_range):\n",
    "        train_shift = lagged_data[index_cols + cols_to_rename].copy()\n",
    "\n",
    "        train_shift['date_block_num'] = train_shift['date_block_num'] + month_shift\n",
    "\n",
    "        foo = lambda x: '{}_lag_{}'.format(x, month_shift) if x in cols_to_rename else x\n",
    "        train_shift = train_shift.rename(columns=foo)\n",
    "\n",
    "        lagged_data = pd.merge(lagged_data, train_shift, on=index_cols, how='left').fillna(0)\n",
    "\n",
    "    del train_shift\n",
    "\n",
    "    # List of all lagged features\n",
    "    fit_cols = [col for col in lagged_data.columns if col[-1] in [str(item) for item in shift_range]]  \n",
    "    # We will drop these at fitting stage\n",
    "    to_drop_cols = list(set(list(lagged_data.columns)) - (set(fit_cols)|set(index_cols))) + ['date_block_num'] \n",
    "    \n",
    "    lagged_data = pd.merge(lagged_data, item_category_mapping, how='left', on='item_id')\n",
    "\n",
    "    lagged_data = downcast_dtypes(lagged_data)\n",
    "    gc.collect();\n",
    "    \n",
    "    return lagged_data, to_drop_cols"
   ]
  },
  {
   "cell_type": "code",
   "execution_count": null,
   "metadata": {},
   "outputs": [],
   "source": [
    "lagged_data, to_drop_cols = create_lags(all_data)\n",
    "lagged_data.head()\n",
    "to_drop_cols"
   ]
  },
  {
   "cell_type": "code",
   "execution_count": null,
   "metadata": {},
   "outputs": [],
   "source": [
    "del all_data\n",
    "gc.collect()"
   ]
  },
  {
   "cell_type": "code",
   "execution_count": null,
   "metadata": {},
   "outputs": [],
   "source": [
    "numeric_features = sorted(list(set(list(lagged_data.columns.values)) \n",
    "                               - set(to_drop_cols) - set(index_cols) - set(['item_category_id'])))\n",
    "numeric_features\n",
    "\n",
    "#categorical_features = list(set(index_cols + ['item_category_id']) - set(['date_block_num']))\n",
    "categorical_features = ['shop_id', 'item_category_id'] \n",
    "categorical_features"
   ]
  },
  {
   "cell_type": "code",
   "execution_count": null,
   "metadata": {},
   "outputs": [],
   "source": [
    "from sklearn.preprocessing import OneHotEncoder, StandardScaler #, SimpleImputer\n",
    "from sklearn.pipeline import Pipeline\n",
    "from sklearn_pandas import DataFrameMapper, gen_features\n",
    "\n",
    "def create_mapper():\n",
    "    categorial_maps = gen_features(\n",
    "        columns=[[feature] for feature in categorical_features],\n",
    "        classes=[{'class': OneHotEncoder, 'dtype': np.float32, 'sparse':False, 'handle_unknown':'ignore'}])\n",
    "    numeric_maps = gen_features(\n",
    "        columns=[[feature] for feature in numeric_features],\n",
    "        classes=[StandardScaler])\n",
    "    return DataFrameMapper(categorial_maps + numeric_maps, default=None)\n",
    "    #return DataFrameMapper(categorial_maps, default=None)"
   ]
  },
  {
   "cell_type": "code",
   "execution_count": null,
   "metadata": {},
   "outputs": [],
   "source": [
    "mapper = create_mapper()\n",
    "mapped_data = mapper.fit_transform(lagged_data.drop(to_drop_cols, axis=1)).astype(np.float32)\n",
    "#mapper.transformed_names_"
   ]
  },
  {
   "cell_type": "code",
   "execution_count": null,
   "metadata": {},
   "outputs": [],
   "source": [
    "#train = lagged_data.loc[lagged_data.date_block_num <= max_train_date_block_num]\n",
    "#test_lagged = lagged_data.loc[lagged_data.date_block_num == max_train_date_block_num + 1]\n",
    "train_indices = lagged_data.date_block_num <= max_train_date_block_num\n",
    "test_indices = lagged_data.date_block_num == max_train_date_block_num + 1"
   ]
  },
  {
   "cell_type": "code",
   "execution_count": null,
   "metadata": {},
   "outputs": [],
   "source": [
    "X_train = mapped_data[train_indices]\n",
    "X_test = mapped_data[test_indices]\n",
    "\n",
    "target_col = 'target'\n",
    "y_train = lagged_data.loc[train_indices, [target_col]].values.ravel()"
   ]
  },
  {
   "cell_type": "code",
   "execution_count": null,
   "metadata": {},
   "outputs": [],
   "source": [
    "dates_train=lagged_data.loc[train_indices,['date_block_num']]\n",
    "#dates_train.head()\n",
    "predictions = lagged_data.loc[test_indices, ['shop_id', 'item_id']]\n",
    "#predictions.head()"
   ]
  },
  {
   "cell_type": "code",
   "execution_count": null,
   "metadata": {},
   "outputs": [],
   "source": [
    "del lagged_data\n",
    "del mapped_data\n",
    "gc.collect()"
   ]
  },
  {
   "cell_type": "code",
   "execution_count": 10,
   "metadata": {},
   "outputs": [],
   "source": [
    "%pinfo2 np.empty"
   ]
  },
  {
   "cell_type": "code",
   "execution_count": null,
   "metadata": {},
   "outputs": [],
   "source": [
    "save_data(ctx + 'X_train', X_train)\n",
    "save_data(ctx + 'X_test', X_test)\n",
    "save_data(ctx + 'y_train', y_train)\n",
    "save_data(ctx + 'dates_train', dates_train)\n",
    "save_data(ctx + 'predictions', predictions)"
   ]
  },
  {
   "cell_type": "code",
   "execution_count": 12,
   "metadata": {},
   "outputs": [
    {
     "name": "stdout",
     "output_type": "stream",
     "text": [
      "Loading ./cache/Search2_shop_id_item_id_one_hot_float32_dates_train.h5\n",
      "Loading ./cache/Search2_shop_id_item_id_one_hot_float32_predictions.h5\n"
     ]
    }
   ],
   "source": [
    "X_train = load_data(ctx + 'X_train', np.empty(0))\n",
    "X_test = load_data(ctx + 'X_test', np.empty(0))\n",
    "y_train = load_data(ctx + 'y_train', np.empty(0))\n",
    "dates_train = load_data(ctx + 'dates_train', pd.DataFrame())\n",
    "predictions = load_data(ctx + 'predictions', pd.DataFrame())"
   ]
  },
  {
   "cell_type": "code",
   "execution_count": 14,
   "metadata": {},
   "outputs": [
    {
     "data": {
      "text/plain": [
       "dtype('float32')"
      ]
     },
     "execution_count": 14,
     "metadata": {},
     "output_type": "execute_result"
    },
    {
     "data": {
      "text/plain": [
       "(10913850, 169)"
      ]
     },
     "execution_count": 14,
     "metadata": {},
     "output_type": "execute_result"
    },
    {
     "data": {
      "text/plain": [
       "(10913850, 1)"
      ]
     },
     "execution_count": 14,
     "metadata": {},
     "output_type": "execute_result"
    }
   ],
   "source": [
    "#print(X_train) \n",
    "#print(X_test)\n",
    "#print(y_train) \n",
    "#print(dates_train)\n",
    "#print(predictions)\n",
    "X_train.dtype\n",
    "X_train.shape\n",
    "dates_train.shape"
   ]
  },
  {
   "cell_type": "code",
   "execution_count": 15,
   "metadata": {},
   "outputs": [],
   "source": [
    "def gen_time_split(data, n_splits):\n",
    "    for i in range(n_splits):\n",
    "        #print(i)\n",
    "        first_vali_date_block_num = max_train_date_block_num - i\n",
    "        vali_indices = data.loc[:,'date_block_num'] == first_vali_date_block_num\n",
    "        train_indices = data.loc[:,'date_block_num'] < first_vali_date_block_num\n",
    "        yield (train_indices[train_indices].index.values, vali_indices[vali_indices].index.values)"
   ]
  },
  {
   "cell_type": "code",
   "execution_count": null,
   "metadata": {},
   "outputs": [],
   "source": [
    "xgb_est_filename = ctx + 'xgb_est.joblib'\n",
    "#xgb_est = load(xgb_est_filename)\n",
    "xgb_est = xgb.XGBRegressor(objective='reg:linear', n_jobs=-1, silent=0, **{'tree_method':'gpu_hist'}) #n_estimators=100, learning_rate=0.3, max_depth=7, \n",
    "#xgb_est.fit(X_train, y_train, verbose=2)\n",
    "#dump(xgb_est, xgb_est_filename)\n",
    "#xgb_est.get_params(deep=True)\n",
    "#xgb_est.get_xgb_params()"
   ]
  },
  {
   "cell_type": "code",
   "execution_count": null,
   "metadata": {},
   "outputs": [],
   "source": [
    "from sklearn.model_selection import GridSearchCV\n",
    "search_est = GridSearchCV(xgb_est,\n",
    "                          {'n_estimators':[50, 100, 150], 'learning_rate':[0.1, 0.3], 'max_depth':[6,7,8]},\n",
    "                          scoring='neg_mean_squared_error',\n",
    "                          cv=gen_time_split(dates_train, 3),\n",
    "                          refit=True,\n",
    "                          return_train_score=True,\n",
    "                          verbose=2)\n",
    "search_est.fit(X_train, y_train, verbose=2)"
   ]
  },
  {
   "cell_type": "code",
   "execution_count": null,
   "metadata": {},
   "outputs": [],
   "source": [
    "search_est.cv_results_\n",
    "search_est.best_score_"
   ]
  },
  {
   "cell_type": "code",
   "execution_count": null,
   "metadata": {},
   "outputs": [],
   "source": [
    "dump(search_est.best_estimator_, xgb_est_filename)"
   ]
  },
  {
   "cell_type": "code",
   "execution_count": null,
   "metadata": {},
   "outputs": [],
   "source": [
    "score(\"XGB train\", y_train, search_est.predict(X_train))"
   ]
  },
  {
   "cell_type": "markdown",
   "metadata": {},
   "source": [
    "RMSE for XGBoost is 0.857923\n",
    "Train R-squared for XGBoost is 0.507406"
   ]
  },
  {
   "cell_type": "code",
   "execution_count": 22,
   "metadata": {},
   "outputs": [],
   "source": [
    "from keras.models import Sequential\n",
    "from keras.layers import Dense\n",
    "from keras.wrappers.scikit_learn import KerasRegressor\n",
    "from keras.optimizers import SGD, Adam\n",
    "\n",
    "def create_keras_model(lr=0.1):\n",
    "    model = Sequential()\n",
    "    model.add(Dense(1000, activation='sigmoid'))\n",
    "    model.add(Dense(300, activation='sigmoid'))\n",
    "    model.add(Dense(100, activation='sigmoid'))\n",
    "    model.add(Dense(1))\n",
    "    model.compile(\n",
    "        loss='mean_squared_error',\n",
    "        optimizer='adam'\n",
    "        #optimizer=SGD(lr=lr, momentum=0.0, decay=0.0, nesterov=False)\n",
    "    )\n",
    "    return model\n",
    "\n",
    "keras_est_filename = ctx + 'keras_est'\n",
    "keras_est = KerasRegressor(build_fn=create_keras_model, epochs=1, verbose=True) #lr=0.1, batch_size=10000, "
   ]
  },
  {
   "cell_type": "code",
   "execution_count": 79,
   "metadata": {},
   "outputs": [
    {
     "name": "stdout",
     "output_type": "stream",
     "text": [
      "Loading ./models/Search2_shop_id_item_id_one_hot_float32_keras_est_model.jlib\n",
      "Epoch 1/1\n",
      "10913850/10913850 [==============================] - 1472s 135us/step - loss: 1.4244\n"
     ]
    },
    {
     "data": {
      "text/plain": [
       "<keras.callbacks.History at 0x7f95f8cb0438>"
      ]
     },
     "execution_count": 79,
     "metadata": {},
     "output_type": "execute_result"
    }
   ],
   "source": [
    "keras_est_loaded = KerasRegressor(build_fn=create_keras_model, epochs=1, verbose=True) #lr=0.1, batch_size=10000, \n",
    "keras_est_loaded.model = load_model(keras_est_filename + '_model', keras_est_loaded)\n",
    "keras_est_loaded.fit(X_train, y_train, verbose=True)"
   ]
  },
  {
   "cell_type": "code",
   "execution_count": 83,
   "metadata": {},
   "outputs": [
    {
     "data": {
      "text/plain": [
       "{'build_fn': <function __main__.create_keras_model(lr=0.1)>,\n",
       " 'epochs': 1,\n",
       " 'verbose': True}"
      ]
     },
     "execution_count": 83,
     "metadata": {},
     "output_type": "execute_result"
    }
   ],
   "source": [
    "keras_est_loaded.get_params()"
   ]
  },
  {
   "cell_type": "code",
   "execution_count": 23,
   "metadata": {},
   "outputs": [
    {
     "name": "stdout",
     "output_type": "stream",
     "text": [
      "Fitting 3 folds for each of 9 candidates, totalling 27 fits\n",
      "[CV] lr=0.003, batch_size=1000 .......................................\n",
      "Epoch 1/1\n",
      "10675678/10675678 [==============================] - 60s 6us/step - loss: 1.3388\n",
      "238172/238172 [==============================] - 0s 2us/step\n",
      "10675678/10675678 [==============================] - 20s 2us/step\n",
      "[CV] ........................ lr=0.003, batch_size=1000, total= 1.1min\n",
      "[CV] lr=0.003, batch_size=1000 .......................................\n"
     ]
    },
    {
     "name": "stderr",
     "output_type": "stream",
     "text": [
      "[Parallel(n_jobs=1)]: Done   1 out of   1 | elapsed:  1.4min remaining:    0.0s\n"
     ]
    },
    {
     "name": "stdout",
     "output_type": "stream",
     "text": [
      "Epoch 1/1\n",
      "10457023/10457023 [==============================] - 59s 6us/step - loss: 1.3481\n",
      "218655/218655 [==============================] - 0s 2us/step\n",
      "10457023/10457023 [==============================] - 20s 2us/step\n",
      "[CV] ........................ lr=0.003, batch_size=1000, total= 1.0min\n",
      "[CV] lr=0.003, batch_size=1000 .......................................\n",
      "Epoch 1/1\n",
      "10242487/10242487 [==============================] - 59s 6us/step - loss: 1.3344\n",
      "214536/214536 [==============================] - 0s 2us/step\n",
      "10242487/10242487 [==============================] - 20s 2us/step\n",
      "[CV] ........................ lr=0.003, batch_size=1000, total= 1.0min\n",
      "[CV] lr=0.001, batch_size=1000 .......................................\n",
      "Epoch 1/1\n",
      "10675678/10675678 [==============================] - 61s 6us/step - loss: 1.3279\n",
      "238172/238172 [==============================] - 0s 2us/step\n",
      "10675678/10675678 [==============================] - 20s 2us/step\n",
      "[CV] ........................ lr=0.001, batch_size=1000, total= 1.1min\n",
      "[CV] lr=0.001, batch_size=1000 .......................................\n",
      "Epoch 1/1\n",
      "10457023/10457023 [==============================] - 60s 6us/step - loss: 1.3427\n",
      "218655/218655 [==============================] - 0s 2us/step\n",
      "10457023/10457023 [==============================] - 22s 2us/step\n",
      "[CV] ........................ lr=0.001, batch_size=1000, total= 1.1min\n",
      "[CV] lr=0.001, batch_size=1000 .......................................\n",
      "Epoch 1/1\n",
      "10242487/10242487 [==============================] - 59s 6us/step - loss: 1.4108\n",
      "214536/214536 [==============================] - 0s 2us/step\n",
      "10242487/10242487 [==============================] - 21s 2us/step\n",
      "[CV] ........................ lr=0.001, batch_size=1000, total= 1.0min\n",
      "[CV] lr=0.01, batch_size=1000 ........................................\n",
      "Epoch 1/1\n",
      "10675678/10675678 [==============================] - 62s 6us/step - loss: 1.3554\n",
      "238172/238172 [==============================] - 1s 2us/step\n",
      "10675678/10675678 [==============================] - 21s 2us/step\n",
      "[CV] ......................... lr=0.01, batch_size=1000, total= 1.1min\n",
      "[CV] lr=0.01, batch_size=1000 ........................................\n",
      "Epoch 1/1\n",
      "10457023/10457023 [==============================] - 61s 6us/step - loss: 1.3475\n",
      "218655/218655 [==============================] - 0s 2us/step\n",
      "10457023/10457023 [==============================] - 22s 2us/step\n",
      "[CV] ......................... lr=0.01, batch_size=1000, total= 1.1min\n",
      "[CV] lr=0.01, batch_size=1000 ........................................\n",
      "Epoch 1/1\n",
      "10242487/10242487 [==============================] - 60s 6us/step - loss: 1.3203\n",
      "214536/214536 [==============================] - 1s 3us/step\n",
      "10242487/10242487 [==============================] - 22s 2us/step\n",
      "[CV] ......................... lr=0.01, batch_size=1000, total= 1.0min\n",
      "[CV] lr=0.003, batch_size=300 ........................................\n",
      "Epoch 1/1\n",
      "10675678/10675678 [==============================] - 173s 16us/step - loss: 1.3798\n",
      "238172/238172 [==============================] - 1s 5us/step\n",
      "10675678/10675678 [==============================] - 49s 5us/step\n",
      "[CV] ......................... lr=0.003, batch_size=300, total= 3.0min\n",
      "[CV] lr=0.003, batch_size=300 ........................................\n",
      "Epoch 1/1\n",
      "10457023/10457023 [==============================] - 173s 17us/step - loss: 1.3553\n",
      "218655/218655 [==============================] - 1s 5us/step\n",
      "10457023/10457023 [==============================] - 48s 5us/step\n",
      "[CV] ......................... lr=0.003, batch_size=300, total= 2.9min\n",
      "[CV] lr=0.003, batch_size=300 ........................................\n",
      "Epoch 1/1\n",
      "10242487/10242487 [==============================] - 166s 16us/step - loss: 1.3866\n",
      "214536/214536 [==============================] - 1s 5us/step\n",
      "10242487/10242487 [==============================] - 47s 5us/step\n",
      "[CV] ......................... lr=0.003, batch_size=300, total= 2.8min\n",
      "[CV] lr=0.001, batch_size=300 ........................................\n",
      "Epoch 1/1\n",
      "10675678/10675678 [==============================] - 174s 16us/step - loss: 1.4062\n",
      "238172/238172 [==============================] - 1s 5us/step\n",
      "10675678/10675678 [==============================] - 49s 5us/step\n",
      "[CV] ......................... lr=0.001, batch_size=300, total= 3.0min\n",
      "[CV] lr=0.001, batch_size=300 ........................................\n",
      "Epoch 1/1\n",
      "10457023/10457023 [==============================] - 173s 17us/step - loss: 1.3757\n",
      "218655/218655 [==============================] - 1s 5us/step\n",
      "10457023/10457023 [==============================] - 49s 5us/step\n",
      "[CV] ......................... lr=0.001, batch_size=300, total= 3.0min\n",
      "[CV] lr=0.001, batch_size=300 ........................................\n",
      "Epoch 1/1\n",
      "10242487/10242487 [==============================] - 170s 17us/step - loss: 1.3776\n",
      "214536/214536 [==============================] - 1s 5us/step\n",
      "10242487/10242487 [==============================] - 48s 5us/step\n",
      "[CV] ......................... lr=0.001, batch_size=300, total= 2.9min\n",
      "[CV] lr=0.01, batch_size=300 .........................................\n",
      "Epoch 1/1\n",
      "10675678/10675678 [==============================] - 179s 17us/step - loss: 1.3434\n",
      "238172/238172 [==============================] - 1s 5us/step\n",
      "10675678/10675678 [==============================] - 51s 5us/step\n",
      "[CV] .......................... lr=0.01, batch_size=300, total= 3.1min\n",
      "[CV] lr=0.01, batch_size=300 .........................................\n",
      "Epoch 1/1\n",
      "10457023/10457023 [==============================] - 177s 17us/step - loss: 1.3681\n",
      "218655/218655 [==============================] - 1s 6us/step\n",
      "10457023/10457023 [==============================] - 49s 5us/step\n",
      "[CV] .......................... lr=0.01, batch_size=300, total= 3.0min\n",
      "[CV] lr=0.01, batch_size=300 .........................................\n",
      "Epoch 1/1\n",
      "10242487/10242487 [==============================] - 171s 17us/step - loss: 1.3691\n",
      "214536/214536 [==============================] - 1s 5us/step\n",
      "10242487/10242487 [==============================] - 49s 5us/step\n",
      "[CV] .......................... lr=0.01, batch_size=300, total= 2.9min\n",
      "[CV] lr=0.003, batch_size=100 ........................................\n",
      "Epoch 1/1\n",
      "10675678/10675678 [==============================] - 465s 44us/step - loss: 1.4044\n",
      "238172/238172 [==============================] - 3s 12us/step\n",
      "10675678/10675678 [==============================] - 118s 11us/step\n",
      "[CV] ......................... lr=0.003, batch_size=100, total= 7.8min\n",
      "[CV] lr=0.003, batch_size=100 ........................................\n",
      "Epoch 1/1\n",
      "10457023/10457023 [==============================] - 457s 44us/step - loss: 1.3851\n",
      "218655/218655 [==============================] - 3s 12us/step\n",
      "10457023/10457023 [==============================] - 117s 11us/step\n",
      "[CV] ......................... lr=0.003, batch_size=100, total= 7.7min\n",
      "[CV] lr=0.003, batch_size=100 ........................................\n",
      "Epoch 1/1\n",
      "10242487/10242487 [==============================] - 450s 44us/step - loss: 1.4160\n",
      "214536/214536 [==============================] - 3s 12us/step\n",
      "10242487/10242487 [==============================] - 116s 11us/step\n",
      "[CV] ......................... lr=0.003, batch_size=100, total= 7.6min\n",
      "[CV] lr=0.001, batch_size=100 ........................................\n",
      "Epoch 1/1\n",
      "10675678/10675678 [==============================] - 471s 44us/step - loss: 1.3992\n",
      "238172/238172 [==============================] - 3s 13us/step\n",
      "10675678/10675678 [==============================] - 123s 12us/step\n",
      "[CV] ......................... lr=0.001, batch_size=100, total= 8.0min\n",
      "[CV] lr=0.001, batch_size=100 ........................................\n",
      "Epoch 1/1\n",
      "10457023/10457023 [==============================] - 462s 44us/step - loss: 1.4106\n",
      "218655/218655 [==============================] - 3s 13us/step\n",
      "10457023/10457023 [==============================] - 122s 12us/step\n",
      "[CV] ......................... lr=0.001, batch_size=100, total= 7.8min\n",
      "[CV] lr=0.001, batch_size=100 ........................................\n",
      "Epoch 1/1\n",
      "10242487/10242487 [==============================] - 455s 44us/step - loss: 1.4112\n",
      "214536/214536 [==============================] - 3s 13us/step\n",
      "10242487/10242487 [==============================] - 122s 12us/step\n",
      "[CV] ......................... lr=0.001, batch_size=100, total= 7.7min\n",
      "[CV] lr=0.01, batch_size=100 .........................................\n",
      "Epoch 1/1\n",
      "10675678/10675678 [==============================] - 475s 44us/step - loss: 1.3931\n",
      "238172/238172 [==============================] - 3s 13us/step\n",
      "10675678/10675678 [==============================] - 128s 12us/step\n",
      "[CV] .......................... lr=0.01, batch_size=100, total= 8.0min\n",
      "[CV] lr=0.01, batch_size=100 .........................................\n",
      "Epoch 1/1\n",
      "10457023/10457023 [==============================] - 466s 45us/step - loss: 1.3891\n",
      "218655/218655 [==============================] - 3s 13us/step\n",
      "10457023/10457023 [==============================] - 126s 12us/step\n",
      "[CV] .......................... lr=0.01, batch_size=100, total= 7.9min\n",
      "[CV] lr=0.01, batch_size=100 .........................................\n",
      "Epoch 1/1\n",
      "10242487/10242487 [==============================] - 459s 45us/step - loss: 1.3958\n",
      "214536/214536 [==============================] - 3s 13us/step\n",
      "10242487/10242487 [==============================] - 126s 12us/step\n",
      "[CV] .......................... lr=0.01, batch_size=100, total= 7.7min\n"
     ]
    },
    {
     "name": "stderr",
     "output_type": "stream",
     "text": [
      "[Parallel(n_jobs=1)]: Done  27 out of  27 | elapsed: 135.1min finished\n"
     ]
    },
    {
     "name": "stdout",
     "output_type": "stream",
     "text": [
      "Epoch 1/1\n",
      "10913850/10913850 [==============================] - 192s 18us/step - loss: 1.3452\n"
     ]
    },
    {
     "data": {
      "text/plain": [
       "GridSearchCV(cv=<generator object gen_time_split at 0x7f9872b8bd00>,\n",
       "       error_score='raise',\n",
       "       estimator=<keras.wrappers.scikit_learn.KerasRegressor object at 0x7f9872b90080>,\n",
       "       fit_params=None, iid=True, n_jobs=1,\n",
       "       param_grid={'lr': [0.003, 0.001, 0.01], 'batch_size': [1000, 300, 100]},\n",
       "       pre_dispatch='2*n_jobs', refit=True, return_train_score=True,\n",
       "       scoring='neg_mean_squared_error', verbose=2)"
      ]
     },
     "execution_count": 23,
     "metadata": {},
     "output_type": "execute_result"
    }
   ],
   "source": [
    "from sklearn.model_selection import GridSearchCV\n",
    "search_est = GridSearchCV(keras_est,\n",
    "                          {'lr':[0.003, 0.001, 0.01], 'batch_size': [1000, 300, 100]}, #'epochs': [3,5,7], \n",
    "                          scoring='neg_mean_squared_error',\n",
    "                          cv=gen_time_split(dates_train, 3),\n",
    "                          refit=True,\n",
    "                          return_train_score=True,\n",
    "                          verbose=2)\n",
    "search_est.fit(X_train, y_train, verbose=True)"
   ]
  },
  {
   "cell_type": "code",
   "execution_count": 53,
   "metadata": {},
   "outputs": [
    {
     "data": {
      "text/plain": [
       "-1.061886083575765"
      ]
     },
     "execution_count": 53,
     "metadata": {},
     "output_type": "execute_result"
    },
    {
     "data": {
      "text/plain": [
       "{'batch_size': 300, 'lr': 0.003}"
      ]
     },
     "execution_count": 53,
     "metadata": {},
     "output_type": "execute_result"
    },
    {
     "data": {
      "text/plain": [
       "{'mean_fit_time': array([ 62.48187931,  62.90376043,  63.5504454 , 173.87662554,\n",
       "        175.34648577, 178.62468894, 460.19229786, 465.82288233,\n",
       "        469.38978092]),\n",
       " 'mean_score_time': array([0.43642346, 0.46623699, 0.52014248, 1.11015232, 1.15533201,\n",
       "        1.26173973, 2.65385   , 2.95103129, 2.88988765]),\n",
       " 'mean_test_score': array([-1.15886212, -1.12824089, -1.09928816, -1.06188608, -1.16670793,\n",
       "        -1.10604122, -1.1798972 , -1.12459976, -1.19964502]),\n",
       " 'mean_train_score': array([-1.32266271, -1.30504155, -1.26720564, -1.23914047, -1.35611387,\n",
       "        -1.27658129, -1.38101848, -1.30370033, -1.41783949]),\n",
       " 'param_batch_size': masked_array(data=[1000, 1000, 1000, 300, 300, 300, 100, 100, 100],\n",
       "              mask=[False, False, False, False, False, False, False, False,\n",
       "                    False],\n",
       "        fill_value='?',\n",
       "             dtype=object),\n",
       " 'param_lr': masked_array(data=[0.003, 0.001, 0.01, 0.003, 0.001, 0.01, 0.003, 0.001,\n",
       "                    0.01],\n",
       "              mask=[False, False, False, False, False, False, False, False,\n",
       "                    False],\n",
       "        fill_value='?',\n",
       "             dtype=object),\n",
       " 'params': [{'batch_size': 1000, 'lr': 0.003},\n",
       "  {'batch_size': 1000, 'lr': 0.001},\n",
       "  {'batch_size': 1000, 'lr': 0.01},\n",
       "  {'batch_size': 300, 'lr': 0.003},\n",
       "  {'batch_size': 300, 'lr': 0.001},\n",
       "  {'batch_size': 300, 'lr': 0.01},\n",
       "  {'batch_size': 100, 'lr': 0.003},\n",
       "  {'batch_size': 100, 'lr': 0.001},\n",
       "  {'batch_size': 100, 'lr': 0.01}],\n",
       " 'rank_test_score': array([6, 5, 2, 1, 7, 3, 8, 4, 9], dtype=int32),\n",
       " 'split0_test_score': array([-1.17997205, -1.14261401, -1.15012276, -1.13813925, -1.16294825,\n",
       "        -1.14029992, -1.29210365, -1.23466587, -1.19293833]),\n",
       " 'split0_train_score': array([-1.23002052, -1.21358097, -1.25085759, -1.23556578, -1.26470613,\n",
       "        -1.20950377, -1.47307694, -1.35791123, -1.33619475]),\n",
       " 'split1_test_score': array([-1.43436921, -1.11135948, -1.20776665, -1.18659592, -1.3099612 ,\n",
       "        -1.2307229 , -1.15061903, -1.23002887, -1.27551639]),\n",
       " 'split1_train_score': array([-1.55016816, -1.19161725, -1.29762518, -1.29154444, -1.46436965,\n",
       "        -1.32297945, -1.25412464, -1.3090142 , -1.40648639]),\n",
       " 'split2_test_score': array([-0.85462976, -1.12948978, -0.93229175, -0.8501277 , -1.02487814,\n",
       "        -0.94093263, -1.08516896, -0.89495409, -1.12976253]),\n",
       " 'split2_train_score': array([-1.18779945, -1.50992644, -1.25313413, -1.19031119, -1.33926582,\n",
       "        -1.29726064, -1.41585386, -1.24417555, -1.51083732]),\n",
       " 'std_fit_time': array([0.72671318, 0.88120732, 0.97885294, 3.27503332, 2.03533891,\n",
       "        3.7538445 , 6.30866564, 6.67021103, 6.62481353]),\n",
       " 'std_score_time': array([0.01166456, 0.01002202, 0.02001257, 0.02480857, 0.02489571,\n",
       "        0.06404908, 0.0692213 , 0.13582705, 0.09358655]),\n",
       " 'std_test_score': array([0.2333584 , 0.01290744, 0.11688004, 0.14648314, 0.11452795,\n",
       "        0.11912448, 0.08725359, 0.15738542, 0.05874799]),\n",
       " 'std_train_score': array([0.16179143, 0.14515271, 0.02152994, 0.04140552, 0.08237829,\n",
       "        0.04857921, 0.09271877, 0.04658418, 0.07174806])}"
      ]
     },
     "execution_count": 53,
     "metadata": {},
     "output_type": "execute_result"
    }
   ],
   "source": [
    "search_est.best_score_\n",
    "search_est.best_params_\n",
    "search_est.cv_results_"
   ]
  },
  {
   "cell_type": "code",
   "execution_count": 71,
   "metadata": {},
   "outputs": [
    {
     "name": "stdout",
     "output_type": "stream",
     "text": [
      "Saving ./models/Search2_shop_id_item_id_one_hot_float32_keras_est_cv_results.jlib\n"
     ]
    }
   ],
   "source": [
    "save_model(keras_est_filename + '_cv_results', search_est.cv_results_)"
   ]
  },
  {
   "cell_type": "code",
   "execution_count": 72,
   "metadata": {},
   "outputs": [
    {
     "name": "stdout",
     "output_type": "stream",
     "text": [
      "Saving ./models/Search2_shop_id_item_id_one_hot_float32_keras_est_model.jlib\n"
     ]
    }
   ],
   "source": [
    "save_model(keras_est_filename + '_model', search_est.best_estimator_)"
   ]
  },
  {
   "cell_type": "code",
   "execution_count": null,
   "metadata": {},
   "outputs": [],
   "source": [
    "y_test_pred = search_est.best_estimator_.predict(X_train)\n",
    "score(\"Keras train\", y_train, y_test_pred)"
   ]
  },
  {
   "cell_type": "code",
   "execution_count": null,
   "metadata": {},
   "outputs": [],
   "source": [
    "y_test_pred = None\n",
    "predictions = predictions.assign(item_cnt_month=y_test_pred)\n",
    "submission = test.merge(predictions, how='left')[['item_cnt_month']]\n",
    "submission.head()\n",
    "submission.to_csv(ctx + '.csv.gz', index_label='ID', compression='gzip') #header=['ID', 'item_cnt_month'])"
   ]
  },
  {
   "cell_type": "code",
   "execution_count": null,
   "metadata": {},
   "outputs": [],
   "source": []
  }
 ],
 "metadata": {
  "kernelspec": {
   "display_name": "Python 3",
   "language": "python",
   "name": "python3"
  },
  "language_info": {
   "codemirror_mode": {
    "name": "ipython",
    "version": 3
   },
   "file_extension": ".py",
   "mimetype": "text/x-python",
   "name": "python",
   "nbconvert_exporter": "python",
   "pygments_lexer": "ipython3",
   "version": "3.6.8"
  }
 },
 "nbformat": 4,
 "nbformat_minor": 2
}
