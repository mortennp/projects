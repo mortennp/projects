{
 "cells": [
  {
   "cell_type": "code",
   "execution_count": 1,
   "metadata": {},
   "outputs": [],
   "source": [
    "import os\n",
    "import numpy as np\n",
    "import pandas as pd\n",
    "import sklearn as skl\n",
    "import xgboost as xgb\n",
    "pd.set_option('display.max_rows', 600)\n",
    "pd.set_option('display.max_columns', 50)\n",
    "np.set_printoptions(edgeitems=100)\n",
    "\n",
    "#import matplotlib as mpl\n",
    "import matplotlib.pyplot as plt\n",
    "#import matplotlib.dates as mdates\n",
    "%matplotlib inline \n",
    "\n",
    "from tqdm import tqdm_notebook\n",
    "from itertools import product\n",
    "\n",
    "from IPython.core.interactiveshell import InteractiveShell\n",
    "InteractiveShell.ast_node_interactivity = \"all\"\n",
    "\n",
    "import gc"
   ]
  },
  {
   "cell_type": "code",
   "execution_count": 2,
   "metadata": {},
   "outputs": [
    {
     "name": "stdout",
     "output_type": "stream",
     "text": [
      "numpy 1.15.4\n",
      "pandas 0.23.4\n",
      "sklearn 0.20.2\n",
      "xgboost 0.81\n"
     ]
    }
   ],
   "source": [
    "for p in [np, pd, skl, xgb]:\n",
    "    print (p.__name__, p.__version__)"
   ]
  },
  {
   "cell_type": "code",
   "execution_count": 3,
   "metadata": {},
   "outputs": [],
   "source": [
    "seed = 123\n",
    "ctx = 'Search2_shop_id_item_id_one_hot_float32_'"
   ]
  },
  {
   "cell_type": "code",
   "execution_count": 4,
   "metadata": {},
   "outputs": [],
   "source": [
    "def downcast_dtypes(df):\n",
    "    '''\n",
    "        Changes column types in the dataframe: \n",
    "                \n",
    "                `float64` type to `float32`\n",
    "                `int64`   type to `int32`\n",
    "    '''\n",
    "    \n",
    "    # Select columns to downcast\n",
    "    float_cols = [c for c in df if df[c].dtype == \"float64\"]\n",
    "    int_cols =   [c for c in df if df[c].dtype == \"int64\"]\n",
    "    \n",
    "    # Downcast\n",
    "    df[float_cols] = df[float_cols].astype(np.float32)\n",
    "    df[int_cols]   = df[int_cols].astype(np.int32)\n",
    "    \n",
    "    return df"
   ]
  },
  {
   "cell_type": "code",
   "execution_count": 5,
   "metadata": {},
   "outputs": [],
   "source": [
    "from sklearn.metrics import mean_squared_error, r2_score\n",
    "\n",
    "def score(est, ground_truths, predictions):\n",
    "    print(est)\n",
    "    print('RMSE is %f' % np.sqrt(mean_squared_error(ground_truths, predictions)))\n",
    "    print('R-squared is %f' % r2_score(ground_truths, predictions))    "
   ]
  },
  {
   "cell_type": "code",
   "execution_count": 6,
   "metadata": {},
   "outputs": [],
   "source": [
    "import h5py\n",
    "\n",
    "CACHE_FOLDER = './cache/'\n",
    "KEY = 'dataset_1'\n",
    "\n",
    "def save_data(filename, data):\n",
    "    path = str(os.path.join(CACHE_FOLDER, filename) + '.h5')\n",
    "    print('Saving ' + path)\n",
    "    if isinstance(data, pd.DataFrame):\n",
    "        data.to_hdf(path, KEY, mode='w')\n",
    "    elif isinstance(data, np.ndarray):\n",
    "        with h5py.File(path, 'w') as f:\n",
    "            f.create_dataset(KEY, data=data)\n",
    "    else:\n",
    "        raise('Not supported')\n",
    "    \n",
    "def load_data(filename, hint):\n",
    "    path = str(os.path.join(CACHE_FOLDER, filename) + '.h5')\n",
    "    print('Loading ' + path)\n",
    "    if isinstance(hint, pd.DataFrame):\n",
    "        data = pd.read_hdf(path, KEY)\n",
    "    elif isinstance(hint, np.ndarray):\n",
    "        with h5py.File(path,'r') as f:\n",
    "            data = f[KEY][:]\n",
    "    else:\n",
    "        raise('Not supported')\n",
    "        \n",
    "    return data"
   ]
  },
  {
   "cell_type": "code",
   "execution_count": 7,
   "metadata": {},
   "outputs": [
    {
     "name": "stderr",
     "output_type": "stream",
     "text": [
      "Using TensorFlow backend.\n"
     ]
    }
   ],
   "source": [
    "from joblib import dump, load\n",
    "from keras.wrappers.scikit_learn import KerasRegressor\n",
    "from keras.models import load_model as keras_load_model\n",
    "\n",
    "MODEL_FOLDER = './models/'\n",
    "\n",
    "def save_model(filename, model):\n",
    "    path = str(os.path.join(MODEL_FOLDER, filename) + '.jlib')\n",
    "    print('Saving ' + path)    \n",
    "    if isinstance(model, KerasRegressor):\n",
    "        model.model.save(path)\n",
    "    else:\n",
    "        dump(model, path)        \n",
    "        \n",
    "def load_model(filename, hint):\n",
    "    path = str(os.path.join(MODEL_FOLDER, filename) + '.jlib')\n",
    "    print('Loading ' + path)\n",
    "    if isinstance(hint, KerasRegressor):\n",
    "        model = keras_load_model(path)\n",
    "    else:\n",
    "        model = load(path)\n",
    "        \n",
    "    return model        "
   ]
  },
  {
   "cell_type": "code",
   "execution_count": 10,
   "metadata": {},
   "outputs": [],
   "source": [
    "DATA_FOLDER = '../data/raw/'\n",
    "\n",
    "sales = pd.read_csv(os.path.join(DATA_FOLDER, 'sales_train.csv.gz'))\n",
    "test = pd.read_csv(os.path.join(DATA_FOLDER, 'test.csv.gz'))\n",
    "items = pd.read_csv(os.path.join(DATA_FOLDER, 'items.csv'))\n",
    "categories = pd.read_csv(os.path.join(DATA_FOLDER, 'item_categories.csv'))\n",
    "shops = pd.read_csv(os.path.join(DATA_FOLDER, 'shops.csv'))"
   ]
  },
  {
   "cell_type": "code",
   "execution_count": 11,
   "metadata": {},
   "outputs": [
    {
     "data": {
      "text/plain": [
       "33"
      ]
     },
     "execution_count": 11,
     "metadata": {},
     "output_type": "execute_result"
    }
   ],
   "source": [
    "max_train_date_block_num = sales.date_block_num.max()\n",
    "max_train_date_block_num"
   ]
  },
  {
   "cell_type": "markdown",
   "metadata": {},
   "source": [
    "import nltk\n",
    "#nltk.download('punkt')\n",
    "\n",
    "tokenizer = nltk.data.load('tokenizers/punkt/russian.pickle')\n",
    "items['tokenized_name'] = items.apply(lambda row: tokenizer.tokenize(row['item_name']), axis=1)"
   ]
  },
  {
   "cell_type": "markdown",
   "metadata": {},
   "source": [
    "from gensim.models import Word2Vec\n",
    "w2v_item_name = Word2Vec(items.tokenized_name, min_count=1)"
   ]
  },
  {
   "cell_type": "markdown",
   "metadata": {},
   "source": [
    "items['embedded_name'] = items.apply(lambda row: np.array[w2v_item_name[word] for word in row['tokenized_name']])"
   ]
  },
  {
   "cell_type": "markdown",
   "metadata": {},
   "source": [
    "from gensim.models import Word2Vec\n",
    "docs = items.tokenized_names\n",
    "w2v_item_names = Word2Vec(\n",
    "        docs,\n",
    "        size=150,\n",
    "        window=10,\n",
    "        min_count=2,\n",
    "        workers=10)\n",
    "w2v_item_names(docs, total_examples=len(documents), epochs=10)"
   ]
  },
  {
   "cell_type": "code",
   "execution_count": 12,
   "metadata": {},
   "outputs": [],
   "source": [
    "item_category_mapping = items[['item_id','item_category_id']].drop_duplicates()\n",
    "index_cols = ['shop_id', 'item_id', 'date_block_num']"
   ]
  },
  {
   "cell_type": "code",
   "execution_count": 29,
   "metadata": {},
   "outputs": [],
   "source": [
    "def create_grid(sales, index_cols):\n",
    "    from tqdm import tqdm_notebook\n",
    "    \n",
    "    # For every month we create a grid from all shops/items combinations from that month\n",
    "    grid = [] \n",
    "    for block_num in tqdm_notebook(sales['date_block_num'].unique()):\n",
    "        cur_shops = sales.loc[sales['date_block_num'] == block_num, 'shop_id'].unique()\n",
    "        cur_items = sales.loc[sales['date_block_num'] == block_num, 'item_id'].unique()\n",
    "        grid.append(np.array(list(product(*[cur_shops, cur_items, [block_num]])),dtype='int32'))\n",
    "\n",
    "    # Turn the grid into a dataframe\n",
    "    grid = pd.DataFrame(np.vstack(grid), columns = index_cols,dtype=np.int32)\n",
    "    \n",
    "    # Groupby data to get shop-item-month aggregates\n",
    "    gb = sales.groupby(index_cols,as_index=False).agg({'item_cnt_day':{'target':'sum'}})\n",
    "    # Fix column names\n",
    "    gb.columns = [col[0] if col[-1]=='' else col[-1] for col in gb.columns.values] \n",
    "    # Clip\n",
    "    gb.target = gb.target.clip(0,20) #TODO\n",
    "    # Join it to the grid    \n",
    "    all_data = pd.merge(grid, gb, how='left', on=index_cols).fillna(0)\n",
    "    \n",
    "    # Same as above but with shop-month aggregates\n",
    "    gb = sales.groupby(['shop_id', 'date_block_num'],as_index=False).agg({'item_cnt_day':{'target_shop':'sum'}})\n",
    "    gb.columns = [col[0] if col[-1]=='' else col[-1] for col in gb.columns.values]\n",
    "    all_data = pd.merge(all_data, gb, how='left', on=['shop_id', 'date_block_num']).fillna(0)\n",
    "\n",
    "    # Same as above but with item-month aggregates\n",
    "    gb = sales.groupby(['item_id', 'date_block_num'],as_index=False).agg({'item_cnt_day':{'target_item':'sum'}})\n",
    "    gb.columns = [col[0] if col[-1] == '' else col[-1] for col in gb.columns.values]\n",
    "    all_data = pd.merge(all_data, gb, how='left', on=['item_id', 'date_block_num']).fillna(0)\n",
    "   \n",
    "    # Same as above but with category-month aggregates\n",
    "    all_data = pd.merge(all_data, item_category_mapping, how='left', on='item_id')\n",
    "    \n",
    "    gb = pd.merge(sales, item_category_mapping, how='left', on='item_id')\n",
    "    gb = gb.groupby(['item_category_id', 'date_block_num'],as_index=False).agg({'item_cnt_day':{'target_category':'sum'}})\n",
    "    gb.columns = [col[0] if col[-1] == '' else col[-1] for col in gb.columns.values]\n",
    "    all_data = pd.merge(all_data, gb, how='left', on=['item_category_id', 'date_block_num']).fillna(0)\n",
    "    all_data = all_data.drop(['item_category_id'], axis=1)\n",
    "\n",
    "    # Downcast dtypes from 64 to 32 bit to save memory\n",
    "    all_data = downcast_dtypes(all_data)\n",
    "    del grid, gb \n",
    "    gc.collect();\n",
    "    \n",
    "    return all_data"
   ]
  },
  {
   "cell_type": "code",
   "execution_count": 30,
   "metadata": {},
   "outputs": [
    {
     "data": {
      "application/vnd.jupyter.widget-view+json": {
       "model_id": "5faefe4654e141b2a25ac9ffeb0cbde1",
       "version_major": 2,
       "version_minor": 0
      },
      "text/plain": [
       "HBox(children=(IntProgress(value=0, max=35), HTML(value='')))"
      ]
     },
     "metadata": {},
     "output_type": "display_data"
    },
    {
     "name": "stdout",
     "output_type": "stream",
     "text": [
      "\n"
     ]
    },
    {
     "data": {
      "text/html": [
       "<div>\n",
       "<style scoped>\n",
       "    .dataframe tbody tr th:only-of-type {\n",
       "        vertical-align: middle;\n",
       "    }\n",
       "\n",
       "    .dataframe tbody tr th {\n",
       "        vertical-align: top;\n",
       "    }\n",
       "\n",
       "    .dataframe thead th {\n",
       "        text-align: right;\n",
       "    }\n",
       "</style>\n",
       "<table border=\"1\" class=\"dataframe\">\n",
       "  <thead>\n",
       "    <tr style=\"text-align: right;\">\n",
       "      <th></th>\n",
       "      <th>shop_id</th>\n",
       "      <th>item_id</th>\n",
       "      <th>date_block_num</th>\n",
       "      <th>target</th>\n",
       "      <th>target_shop</th>\n",
       "      <th>target_item</th>\n",
       "      <th>target_category</th>\n",
       "    </tr>\n",
       "  </thead>\n",
       "  <tbody>\n",
       "    <tr>\n",
       "      <th>0</th>\n",
       "      <td>59</td>\n",
       "      <td>22154</td>\n",
       "      <td>0</td>\n",
       "      <td>1.0</td>\n",
       "      <td>2017.0</td>\n",
       "      <td>18.0</td>\n",
       "      <td>6094.0</td>\n",
       "    </tr>\n",
       "    <tr>\n",
       "      <th>1</th>\n",
       "      <td>59</td>\n",
       "      <td>2552</td>\n",
       "      <td>0</td>\n",
       "      <td>0.0</td>\n",
       "      <td>2017.0</td>\n",
       "      <td>0.0</td>\n",
       "      <td>287.0</td>\n",
       "    </tr>\n",
       "    <tr>\n",
       "      <th>2</th>\n",
       "      <td>59</td>\n",
       "      <td>2554</td>\n",
       "      <td>0</td>\n",
       "      <td>0.0</td>\n",
       "      <td>2017.0</td>\n",
       "      <td>1.0</td>\n",
       "      <td>287.0</td>\n",
       "    </tr>\n",
       "    <tr>\n",
       "      <th>3</th>\n",
       "      <td>59</td>\n",
       "      <td>2555</td>\n",
       "      <td>0</td>\n",
       "      <td>0.0</td>\n",
       "      <td>2017.0</td>\n",
       "      <td>2.0</td>\n",
       "      <td>268.0</td>\n",
       "    </tr>\n",
       "    <tr>\n",
       "      <th>4</th>\n",
       "      <td>59</td>\n",
       "      <td>2564</td>\n",
       "      <td>0</td>\n",
       "      <td>0.0</td>\n",
       "      <td>2017.0</td>\n",
       "      <td>5.0</td>\n",
       "      <td>701.0</td>\n",
       "    </tr>\n",
       "  </tbody>\n",
       "</table>\n",
       "</div>"
      ],
      "text/plain": [
       "   shop_id  item_id  date_block_num  target  target_shop  target_item  \\\n",
       "0       59    22154               0     1.0       2017.0         18.0   \n",
       "1       59     2552               0     0.0       2017.0          0.0   \n",
       "2       59     2554               0     0.0       2017.0          1.0   \n",
       "3       59     2555               0     0.0       2017.0          2.0   \n",
       "4       59     2564               0     0.0       2017.0          5.0   \n",
       "\n",
       "   target_category  \n",
       "0           6094.0  \n",
       "1            287.0  \n",
       "2            287.0  \n",
       "3            268.0  \n",
       "4            701.0  "
      ]
     },
     "execution_count": 30,
     "metadata": {},
     "output_type": "execute_result"
    }
   ],
   "source": [
    "all_data = create_grid(\n",
    "    pd.concat(\n",
    "        [sales, test.assign(date_block_num=max_train_date_block_num+1)],\n",
    "        ignore_index=True, sort=False),\n",
    "    index_cols)\n",
    "all_data.head()"
   ]
  },
  {
   "cell_type": "code",
   "execution_count": 31,
   "metadata": {},
   "outputs": [
    {
     "data": {
      "text/html": [
       "<div>\n",
       "<style scoped>\n",
       "    .dataframe tbody tr th:only-of-type {\n",
       "        vertical-align: middle;\n",
       "    }\n",
       "\n",
       "    .dataframe tbody tr th {\n",
       "        vertical-align: top;\n",
       "    }\n",
       "\n",
       "    .dataframe thead th {\n",
       "        text-align: right;\n",
       "    }\n",
       "</style>\n",
       "<table border=\"1\" class=\"dataframe\">\n",
       "  <thead>\n",
       "    <tr style=\"text-align: right;\">\n",
       "      <th></th>\n",
       "      <th>shop_id</th>\n",
       "      <th>item_id</th>\n",
       "      <th>date_block_num</th>\n",
       "      <th>target</th>\n",
       "      <th>target_shop</th>\n",
       "      <th>target_item</th>\n",
       "      <th>target_category</th>\n",
       "    </tr>\n",
       "  </thead>\n",
       "  <tbody>\n",
       "    <tr>\n",
       "      <th>11128045</th>\n",
       "      <td>45</td>\n",
       "      <td>18454</td>\n",
       "      <td>34</td>\n",
       "      <td>0.0</td>\n",
       "      <td>0.0</td>\n",
       "      <td>0.0</td>\n",
       "      <td>0.0</td>\n",
       "    </tr>\n",
       "    <tr>\n",
       "      <th>11128046</th>\n",
       "      <td>45</td>\n",
       "      <td>16188</td>\n",
       "      <td>34</td>\n",
       "      <td>0.0</td>\n",
       "      <td>0.0</td>\n",
       "      <td>0.0</td>\n",
       "      <td>0.0</td>\n",
       "    </tr>\n",
       "    <tr>\n",
       "      <th>11128047</th>\n",
       "      <td>45</td>\n",
       "      <td>15757</td>\n",
       "      <td>34</td>\n",
       "      <td>0.0</td>\n",
       "      <td>0.0</td>\n",
       "      <td>0.0</td>\n",
       "      <td>0.0</td>\n",
       "    </tr>\n",
       "    <tr>\n",
       "      <th>11128048</th>\n",
       "      <td>45</td>\n",
       "      <td>19648</td>\n",
       "      <td>34</td>\n",
       "      <td>0.0</td>\n",
       "      <td>0.0</td>\n",
       "      <td>0.0</td>\n",
       "      <td>0.0</td>\n",
       "    </tr>\n",
       "    <tr>\n",
       "      <th>11128049</th>\n",
       "      <td>45</td>\n",
       "      <td>969</td>\n",
       "      <td>34</td>\n",
       "      <td>0.0</td>\n",
       "      <td>0.0</td>\n",
       "      <td>0.0</td>\n",
       "      <td>0.0</td>\n",
       "    </tr>\n",
       "  </tbody>\n",
       "</table>\n",
       "</div>"
      ],
      "text/plain": [
       "          shop_id  item_id  date_block_num  target  target_shop  target_item  \\\n",
       "11128045       45    18454              34     0.0          0.0          0.0   \n",
       "11128046       45    16188              34     0.0          0.0          0.0   \n",
       "11128047       45    15757              34     0.0          0.0          0.0   \n",
       "11128048       45    19648              34     0.0          0.0          0.0   \n",
       "11128049       45      969              34     0.0          0.0          0.0   \n",
       "\n",
       "          target_category  \n",
       "11128045              0.0  \n",
       "11128046              0.0  \n",
       "11128047              0.0  \n",
       "11128048              0.0  \n",
       "11128049              0.0  "
      ]
     },
     "execution_count": 31,
     "metadata": {},
     "output_type": "execute_result"
    },
    {
     "name": "stdout",
     "output_type": "stream",
     "text": [
      "11128050\n"
     ]
    }
   ],
   "source": [
    "all_data.tail()\n",
    "print(len(all_data))"
   ]
  },
  {
   "cell_type": "code",
   "execution_count": 32,
   "metadata": {},
   "outputs": [],
   "source": [
    "def create_lags(all_data, shift_range = [1, 2, 3, 4, 5, 12]):\n",
    "   \n",
    "    lagged_data = all_data.copy()\n",
    "    \n",
    "    # List of columns that we will use to create lags\n",
    "    cols_to_rename = list(lagged_data.columns.difference(index_cols))    \n",
    "\n",
    "    for month_shift in tqdm_notebook(shift_range):\n",
    "        train_shift = lagged_data[index_cols + cols_to_rename].copy()\n",
    "\n",
    "        train_shift['date_block_num'] = train_shift['date_block_num'] + month_shift\n",
    "\n",
    "        foo = lambda x: '{}_lag_{}'.format(x, month_shift) if x in cols_to_rename else x\n",
    "        train_shift = train_shift.rename(columns=foo)\n",
    "\n",
    "        lagged_data = pd.merge(lagged_data, train_shift, on=index_cols, how='left').fillna(0)\n",
    "\n",
    "    del train_shift\n",
    "\n",
    "    # List of all lagged features\n",
    "    fit_cols = [col for col in lagged_data.columns if col[-1] in [str(item) for item in shift_range]]  \n",
    "    # We will drop these at fitting stage\n",
    "    to_drop_cols = list(set(list(lagged_data.columns)) - (set(fit_cols)|set(index_cols))) + ['date_block_num'] \n",
    "    \n",
    "    lagged_data = pd.merge(lagged_data, item_category_mapping, how='left', on='item_id')\n",
    "\n",
    "    lagged_data = downcast_dtypes(lagged_data)\n",
    "    gc.collect();\n",
    "    \n",
    "    return lagged_data, to_drop_cols"
   ]
  },
  {
   "cell_type": "code",
   "execution_count": 33,
   "metadata": {},
   "outputs": [
    {
     "data": {
      "application/vnd.jupyter.widget-view+json": {
       "model_id": "ac8eebad02ed4dc1a3c1b465750e9400",
       "version_major": 2,
       "version_minor": 0
      },
      "text/plain": [
       "HBox(children=(IntProgress(value=0, max=6), HTML(value='')))"
      ]
     },
     "metadata": {},
     "output_type": "display_data"
    },
    {
     "name": "stdout",
     "output_type": "stream",
     "text": [
      "\n"
     ]
    },
    {
     "data": {
      "text/html": [
       "<div>\n",
       "<style scoped>\n",
       "    .dataframe tbody tr th:only-of-type {\n",
       "        vertical-align: middle;\n",
       "    }\n",
       "\n",
       "    .dataframe tbody tr th {\n",
       "        vertical-align: top;\n",
       "    }\n",
       "\n",
       "    .dataframe thead th {\n",
       "        text-align: right;\n",
       "    }\n",
       "</style>\n",
       "<table border=\"1\" class=\"dataframe\">\n",
       "  <thead>\n",
       "    <tr style=\"text-align: right;\">\n",
       "      <th></th>\n",
       "      <th>shop_id</th>\n",
       "      <th>item_id</th>\n",
       "      <th>date_block_num</th>\n",
       "      <th>target</th>\n",
       "      <th>target_shop</th>\n",
       "      <th>target_item</th>\n",
       "      <th>target_category</th>\n",
       "      <th>target_lag_1</th>\n",
       "      <th>target_category_lag_1</th>\n",
       "      <th>target_item_lag_1</th>\n",
       "      <th>target_shop_lag_1</th>\n",
       "      <th>target_lag_2</th>\n",
       "      <th>target_category_lag_2</th>\n",
       "      <th>target_item_lag_2</th>\n",
       "      <th>target_shop_lag_2</th>\n",
       "      <th>target_lag_3</th>\n",
       "      <th>target_category_lag_3</th>\n",
       "      <th>target_item_lag_3</th>\n",
       "      <th>target_shop_lag_3</th>\n",
       "      <th>target_lag_4</th>\n",
       "      <th>target_category_lag_4</th>\n",
       "      <th>target_item_lag_4</th>\n",
       "      <th>target_shop_lag_4</th>\n",
       "      <th>target_lag_5</th>\n",
       "      <th>target_category_lag_5</th>\n",
       "      <th>target_item_lag_5</th>\n",
       "      <th>target_shop_lag_5</th>\n",
       "      <th>target_lag_12</th>\n",
       "      <th>target_category_lag_12</th>\n",
       "      <th>target_item_lag_12</th>\n",
       "      <th>target_shop_lag_12</th>\n",
       "      <th>item_category_id</th>\n",
       "    </tr>\n",
       "  </thead>\n",
       "  <tbody>\n",
       "    <tr>\n",
       "      <th>0</th>\n",
       "      <td>59</td>\n",
       "      <td>22154</td>\n",
       "      <td>0</td>\n",
       "      <td>1.0</td>\n",
       "      <td>2017.0</td>\n",
       "      <td>18.0</td>\n",
       "      <td>6094.0</td>\n",
       "      <td>0.0</td>\n",
       "      <td>0.0</td>\n",
       "      <td>0.0</td>\n",
       "      <td>0.0</td>\n",
       "      <td>0.0</td>\n",
       "      <td>0.0</td>\n",
       "      <td>0.0</td>\n",
       "      <td>0.0</td>\n",
       "      <td>0.0</td>\n",
       "      <td>0.0</td>\n",
       "      <td>0.0</td>\n",
       "      <td>0.0</td>\n",
       "      <td>0.0</td>\n",
       "      <td>0.0</td>\n",
       "      <td>0.0</td>\n",
       "      <td>0.0</td>\n",
       "      <td>0.0</td>\n",
       "      <td>0.0</td>\n",
       "      <td>0.0</td>\n",
       "      <td>0.0</td>\n",
       "      <td>0.0</td>\n",
       "      <td>0.0</td>\n",
       "      <td>0.0</td>\n",
       "      <td>0.0</td>\n",
       "      <td>37</td>\n",
       "    </tr>\n",
       "    <tr>\n",
       "      <th>1</th>\n",
       "      <td>59</td>\n",
       "      <td>2552</td>\n",
       "      <td>0</td>\n",
       "      <td>0.0</td>\n",
       "      <td>2017.0</td>\n",
       "      <td>0.0</td>\n",
       "      <td>287.0</td>\n",
       "      <td>0.0</td>\n",
       "      <td>0.0</td>\n",
       "      <td>0.0</td>\n",
       "      <td>0.0</td>\n",
       "      <td>0.0</td>\n",
       "      <td>0.0</td>\n",
       "      <td>0.0</td>\n",
       "      <td>0.0</td>\n",
       "      <td>0.0</td>\n",
       "      <td>0.0</td>\n",
       "      <td>0.0</td>\n",
       "      <td>0.0</td>\n",
       "      <td>0.0</td>\n",
       "      <td>0.0</td>\n",
       "      <td>0.0</td>\n",
       "      <td>0.0</td>\n",
       "      <td>0.0</td>\n",
       "      <td>0.0</td>\n",
       "      <td>0.0</td>\n",
       "      <td>0.0</td>\n",
       "      <td>0.0</td>\n",
       "      <td>0.0</td>\n",
       "      <td>0.0</td>\n",
       "      <td>0.0</td>\n",
       "      <td>58</td>\n",
       "    </tr>\n",
       "    <tr>\n",
       "      <th>2</th>\n",
       "      <td>59</td>\n",
       "      <td>2554</td>\n",
       "      <td>0</td>\n",
       "      <td>0.0</td>\n",
       "      <td>2017.0</td>\n",
       "      <td>1.0</td>\n",
       "      <td>287.0</td>\n",
       "      <td>0.0</td>\n",
       "      <td>0.0</td>\n",
       "      <td>0.0</td>\n",
       "      <td>0.0</td>\n",
       "      <td>0.0</td>\n",
       "      <td>0.0</td>\n",
       "      <td>0.0</td>\n",
       "      <td>0.0</td>\n",
       "      <td>0.0</td>\n",
       "      <td>0.0</td>\n",
       "      <td>0.0</td>\n",
       "      <td>0.0</td>\n",
       "      <td>0.0</td>\n",
       "      <td>0.0</td>\n",
       "      <td>0.0</td>\n",
       "      <td>0.0</td>\n",
       "      <td>0.0</td>\n",
       "      <td>0.0</td>\n",
       "      <td>0.0</td>\n",
       "      <td>0.0</td>\n",
       "      <td>0.0</td>\n",
       "      <td>0.0</td>\n",
       "      <td>0.0</td>\n",
       "      <td>0.0</td>\n",
       "      <td>58</td>\n",
       "    </tr>\n",
       "    <tr>\n",
       "      <th>3</th>\n",
       "      <td>59</td>\n",
       "      <td>2555</td>\n",
       "      <td>0</td>\n",
       "      <td>0.0</td>\n",
       "      <td>2017.0</td>\n",
       "      <td>2.0</td>\n",
       "      <td>268.0</td>\n",
       "      <td>0.0</td>\n",
       "      <td>0.0</td>\n",
       "      <td>0.0</td>\n",
       "      <td>0.0</td>\n",
       "      <td>0.0</td>\n",
       "      <td>0.0</td>\n",
       "      <td>0.0</td>\n",
       "      <td>0.0</td>\n",
       "      <td>0.0</td>\n",
       "      <td>0.0</td>\n",
       "      <td>0.0</td>\n",
       "      <td>0.0</td>\n",
       "      <td>0.0</td>\n",
       "      <td>0.0</td>\n",
       "      <td>0.0</td>\n",
       "      <td>0.0</td>\n",
       "      <td>0.0</td>\n",
       "      <td>0.0</td>\n",
       "      <td>0.0</td>\n",
       "      <td>0.0</td>\n",
       "      <td>0.0</td>\n",
       "      <td>0.0</td>\n",
       "      <td>0.0</td>\n",
       "      <td>0.0</td>\n",
       "      <td>56</td>\n",
       "    </tr>\n",
       "    <tr>\n",
       "      <th>4</th>\n",
       "      <td>59</td>\n",
       "      <td>2564</td>\n",
       "      <td>0</td>\n",
       "      <td>0.0</td>\n",
       "      <td>2017.0</td>\n",
       "      <td>5.0</td>\n",
       "      <td>701.0</td>\n",
       "      <td>0.0</td>\n",
       "      <td>0.0</td>\n",
       "      <td>0.0</td>\n",
       "      <td>0.0</td>\n",
       "      <td>0.0</td>\n",
       "      <td>0.0</td>\n",
       "      <td>0.0</td>\n",
       "      <td>0.0</td>\n",
       "      <td>0.0</td>\n",
       "      <td>0.0</td>\n",
       "      <td>0.0</td>\n",
       "      <td>0.0</td>\n",
       "      <td>0.0</td>\n",
       "      <td>0.0</td>\n",
       "      <td>0.0</td>\n",
       "      <td>0.0</td>\n",
       "      <td>0.0</td>\n",
       "      <td>0.0</td>\n",
       "      <td>0.0</td>\n",
       "      <td>0.0</td>\n",
       "      <td>0.0</td>\n",
       "      <td>0.0</td>\n",
       "      <td>0.0</td>\n",
       "      <td>0.0</td>\n",
       "      <td>59</td>\n",
       "    </tr>\n",
       "  </tbody>\n",
       "</table>\n",
       "</div>"
      ],
      "text/plain": [
       "   shop_id  item_id  date_block_num  target  target_shop  target_item  \\\n",
       "0       59    22154               0     1.0       2017.0         18.0   \n",
       "1       59     2552               0     0.0       2017.0          0.0   \n",
       "2       59     2554               0     0.0       2017.0          1.0   \n",
       "3       59     2555               0     0.0       2017.0          2.0   \n",
       "4       59     2564               0     0.0       2017.0          5.0   \n",
       "\n",
       "   target_category  target_lag_1  target_category_lag_1  target_item_lag_1  \\\n",
       "0           6094.0           0.0                    0.0                0.0   \n",
       "1            287.0           0.0                    0.0                0.0   \n",
       "2            287.0           0.0                    0.0                0.0   \n",
       "3            268.0           0.0                    0.0                0.0   \n",
       "4            701.0           0.0                    0.0                0.0   \n",
       "\n",
       "   target_shop_lag_1  target_lag_2  target_category_lag_2  target_item_lag_2  \\\n",
       "0                0.0           0.0                    0.0                0.0   \n",
       "1                0.0           0.0                    0.0                0.0   \n",
       "2                0.0           0.0                    0.0                0.0   \n",
       "3                0.0           0.0                    0.0                0.0   \n",
       "4                0.0           0.0                    0.0                0.0   \n",
       "\n",
       "   target_shop_lag_2  target_lag_3  target_category_lag_3  target_item_lag_3  \\\n",
       "0                0.0           0.0                    0.0                0.0   \n",
       "1                0.0           0.0                    0.0                0.0   \n",
       "2                0.0           0.0                    0.0                0.0   \n",
       "3                0.0           0.0                    0.0                0.0   \n",
       "4                0.0           0.0                    0.0                0.0   \n",
       "\n",
       "   target_shop_lag_3  target_lag_4  target_category_lag_4  target_item_lag_4  \\\n",
       "0                0.0           0.0                    0.0                0.0   \n",
       "1                0.0           0.0                    0.0                0.0   \n",
       "2                0.0           0.0                    0.0                0.0   \n",
       "3                0.0           0.0                    0.0                0.0   \n",
       "4                0.0           0.0                    0.0                0.0   \n",
       "\n",
       "   target_shop_lag_4  target_lag_5  target_category_lag_5  target_item_lag_5  \\\n",
       "0                0.0           0.0                    0.0                0.0   \n",
       "1                0.0           0.0                    0.0                0.0   \n",
       "2                0.0           0.0                    0.0                0.0   \n",
       "3                0.0           0.0                    0.0                0.0   \n",
       "4                0.0           0.0                    0.0                0.0   \n",
       "\n",
       "   target_shop_lag_5  target_lag_12  target_category_lag_12  \\\n",
       "0                0.0            0.0                     0.0   \n",
       "1                0.0            0.0                     0.0   \n",
       "2                0.0            0.0                     0.0   \n",
       "3                0.0            0.0                     0.0   \n",
       "4                0.0            0.0                     0.0   \n",
       "\n",
       "   target_item_lag_12  target_shop_lag_12  item_category_id  \n",
       "0                 0.0                 0.0                37  \n",
       "1                 0.0                 0.0                58  \n",
       "2                 0.0                 0.0                58  \n",
       "3                 0.0                 0.0                56  \n",
       "4                 0.0                 0.0                59  "
      ]
     },
     "execution_count": 33,
     "metadata": {},
     "output_type": "execute_result"
    },
    {
     "data": {
      "text/plain": [
       "['target_shop', 'target_category', 'target', 'target_item', 'date_block_num']"
      ]
     },
     "execution_count": 33,
     "metadata": {},
     "output_type": "execute_result"
    }
   ],
   "source": [
    "lagged_data, to_drop_cols = create_lags(all_data)\n",
    "lagged_data.head()\n",
    "to_drop_cols"
   ]
  },
  {
   "cell_type": "code",
   "execution_count": null,
   "metadata": {},
   "outputs": [],
   "source": [
    "del all_data\n",
    "gc.collect()"
   ]
  },
  {
   "cell_type": "code",
   "execution_count": null,
   "metadata": {},
   "outputs": [],
   "source": [
    "numeric_features = sorted(list(set(list(lagged_data.columns.values)) \n",
    "                               - set(to_drop_cols) - set(index_cols) - set(['item_category_id'])))\n",
    "numeric_features\n",
    "\n",
    "#categorical_features = list(set(index_cols + ['item_category_id']) - set(['date_block_num']))\n",
    "categorical_features = ['shop_id', 'item_category_id'] \n",
    "categorical_features"
   ]
  },
  {
   "cell_type": "code",
   "execution_count": null,
   "metadata": {},
   "outputs": [],
   "source": [
    "from sklearn.preprocessing import OneHotEncoder, StandardScaler #, SimpleImputer\n",
    "from sklearn.pipeline import Pipeline\n",
    "from sklearn_pandas import DataFrameMapper, gen_features\n",
    "\n",
    "def create_mapper():\n",
    "    categorial_maps = gen_features(\n",
    "        columns=[[feature] for feature in categorical_features],\n",
    "        classes=[{'class': OneHotEncoder, 'dtype': np.float32, 'sparse':False, 'handle_unknown':'ignore'}])\n",
    "    numeric_maps = gen_features(\n",
    "        columns=[[feature] for feature in numeric_features],\n",
    "        classes=[StandardScaler])\n",
    "    return DataFrameMapper(categorial_maps + numeric_maps, default=None)\n",
    "    #return DataFrameMapper(categorial_maps, default=None)"
   ]
  },
  {
   "cell_type": "code",
   "execution_count": null,
   "metadata": {},
   "outputs": [],
   "source": [
    "mapper = create_mapper()\n",
    "mapped_data = mapper.fit_transform(lagged_data.drop(to_drop_cols, axis=1)).astype(np.float32)\n",
    "#mapper.transformed_names_"
   ]
  },
  {
   "cell_type": "code",
   "execution_count": null,
   "metadata": {},
   "outputs": [],
   "source": [
    "#train = lagged_data.loc[lagged_data.date_block_num <= max_train_date_block_num]\n",
    "#test_lagged = lagged_data.loc[lagged_data.date_block_num == max_train_date_block_num + 1]\n",
    "train_indices = lagged_data.date_block_num <= max_train_date_block_num\n",
    "test_indices = lagged_data.date_block_num == max_train_date_block_num + 1"
   ]
  },
  {
   "cell_type": "code",
   "execution_count": null,
   "metadata": {},
   "outputs": [],
   "source": [
    "X_train = mapped_data[train_indices]\n",
    "X_test = mapped_data[test_indices]\n",
    "\n",
    "target_col = 'target'\n",
    "y_train = lagged_data.loc[train_indices, [target_col]].values.ravel()"
   ]
  },
  {
   "cell_type": "code",
   "execution_count": null,
   "metadata": {},
   "outputs": [],
   "source": [
    "dates_train=lagged_data.loc[train_indices,['date_block_num']]\n",
    "#dates_train.head()\n",
    "predictions = lagged_data.loc[test_indices, ['shop_id', 'item_id']]\n",
    "#predictions.head()"
   ]
  },
  {
   "cell_type": "code",
   "execution_count": null,
   "metadata": {},
   "outputs": [],
   "source": [
    "del lagged_data\n",
    "del mapped_data\n",
    "gc.collect()"
   ]
  },
  {
   "cell_type": "code",
   "execution_count": null,
   "metadata": {},
   "outputs": [],
   "source": [
    "%pinfo2 np.empty"
   ]
  },
  {
   "cell_type": "code",
   "execution_count": null,
   "metadata": {},
   "outputs": [],
   "source": [
    "save_data(ctx + 'X_train', X_train)\n",
    "save_data(ctx + 'X_test', X_test)\n",
    "save_data(ctx + 'y_train', y_train)\n",
    "save_data(ctx + 'dates_train', dates_train)\n",
    "save_data(ctx + 'predictions', predictions)"
   ]
  },
  {
   "cell_type": "code",
   "execution_count": null,
   "metadata": {},
   "outputs": [],
   "source": [
    "X_train = load_data(ctx + 'X_train', np.empty(0))\n",
    "X_test = load_data(ctx + 'X_test', np.empty(0))\n",
    "y_train = load_data(ctx + 'y_train', np.empty(0))\n",
    "dates_train = load_data(ctx + 'dates_train', pd.DataFrame())\n",
    "predictions = load_data(ctx + 'predictions', pd.DataFrame())"
   ]
  },
  {
   "cell_type": "code",
   "execution_count": null,
   "metadata": {},
   "outputs": [],
   "source": [
    "#print(X_train) \n",
    "#print(X_test)\n",
    "#print(y_train) \n",
    "#print(dates_train)\n",
    "#print(predictions)\n",
    "X_train.dtype\n",
    "X_train.shape\n",
    "dates_train.shape"
   ]
  },
  {
   "cell_type": "code",
   "execution_count": null,
   "metadata": {},
   "outputs": [],
   "source": [
    "def gen_time_split(data, n_splits):\n",
    "    for i in range(n_splits):\n",
    "        #print(i)\n",
    "        first_vali_date_block_num = max_train_date_block_num - i\n",
    "        vali_indices = data.loc[:,'date_block_num'] == first_vali_date_block_num\n",
    "        train_indices = data.loc[:,'date_block_num'] < first_vali_date_block_num\n",
    "        yield (train_indices[train_indices].index.values, vali_indices[vali_indices].index.values)"
   ]
  },
  {
   "cell_type": "code",
   "execution_count": null,
   "metadata": {},
   "outputs": [],
   "source": [
    "xgb_est_filename = ctx + 'xgb_est.joblib'\n",
    "#xgb_est = load(xgb_est_filename)\n",
    "xgb_est = xgb.XGBRegressor(objective='reg:linear', n_jobs=-1, silent=0, **{'tree_method':'gpu_hist'}) #n_estimators=100, learning_rate=0.3, max_depth=7, \n",
    "#xgb_est.fit(X_train, y_train, verbose=2)\n",
    "#dump(xgb_est, xgb_est_filename)\n",
    "#xgb_est.get_params(deep=True)\n",
    "#xgb_est.get_xgb_params()"
   ]
  },
  {
   "cell_type": "code",
   "execution_count": null,
   "metadata": {},
   "outputs": [],
   "source": [
    "from sklearn.model_selection import GridSearchCV\n",
    "search_est = GridSearchCV(xgb_est,\n",
    "                          {'n_estimators':[50, 100, 150], 'learning_rate':[0.1, 0.3], 'max_depth':[6,7,8]},\n",
    "                          scoring='neg_mean_squared_error',\n",
    "                          cv=gen_time_split(dates_train, 3),\n",
    "                          refit=True,\n",
    "                          return_train_score=True,\n",
    "                          verbose=2)\n",
    "search_est.fit(X_train, y_train, verbose=2)"
   ]
  },
  {
   "cell_type": "code",
   "execution_count": null,
   "metadata": {},
   "outputs": [],
   "source": [
    "search_est.cv_results_\n",
    "search_est.best_score_"
   ]
  },
  {
   "cell_type": "code",
   "execution_count": null,
   "metadata": {},
   "outputs": [],
   "source": [
    "dump(search_est.best_estimator_, xgb_est_filename)"
   ]
  },
  {
   "cell_type": "code",
   "execution_count": null,
   "metadata": {},
   "outputs": [],
   "source": [
    "score(\"XGB train\", y_train, search_est.predict(X_train))"
   ]
  },
  {
   "cell_type": "markdown",
   "metadata": {},
   "source": [
    "RMSE for XGBoost is 0.857923\n",
    "Train R-squared for XGBoost is 0.507406"
   ]
  },
  {
   "cell_type": "code",
   "execution_count": null,
   "metadata": {},
   "outputs": [],
   "source": [
    "from keras.models import Sequential\n",
    "from keras.layers import Dense\n",
    "from keras.wrappers.scikit_learn import KerasRegressor\n",
    "from keras.optimizers import SGD, Adam\n",
    "\n",
    "def create_keras_model(lr=0.1):\n",
    "    model = Sequential()\n",
    "    model.add(Dense(1000, activation='sigmoid'))\n",
    "    model.add(Dense(300, activation='sigmoid'))\n",
    "    model.add(Dense(100, activation='sigmoid'))\n",
    "    model.add(Dense(1))\n",
    "    model.compile(\n",
    "        loss='mean_squared_error',\n",
    "        optimizer='adam'\n",
    "        #optimizer=SGD(lr=lr, momentum=0.0, decay=0.0, nesterov=False)\n",
    "    )\n",
    "    return model\n",
    "\n",
    "keras_est_filename = ctx + 'keras_est'\n",
    "keras_est = KerasRegressor(build_fn=create_keras_model, epochs=1, verbose=True) #lr=0.1, batch_size=10000, "
   ]
  },
  {
   "cell_type": "code",
   "execution_count": null,
   "metadata": {},
   "outputs": [],
   "source": [
    "keras_est_loaded = KerasRegressor(build_fn=create_keras_model, epochs=1, verbose=True) #lr=0.1, batch_size=10000, \n",
    "keras_est_loaded.model = load_model(keras_est_filename + '_model', keras_est_loaded)\n",
    "keras_est_loaded.fit(X_train, y_train, verbose=True)"
   ]
  },
  {
   "cell_type": "code",
   "execution_count": null,
   "metadata": {},
   "outputs": [],
   "source": [
    "keras_est_loaded.get_params()"
   ]
  },
  {
   "cell_type": "code",
   "execution_count": null,
   "metadata": {},
   "outputs": [],
   "source": [
    "from sklearn.model_selection import GridSearchCV\n",
    "search_est = GridSearchCV(keras_est,\n",
    "                          {'lr':[0.003, 0.001, 0.01], 'batch_size': [1000, 300, 100]}, #'epochs': [3,5,7], \n",
    "                          scoring='neg_mean_squared_error',\n",
    "                          cv=gen_time_split(dates_train, 3),\n",
    "                          refit=True,\n",
    "                          return_train_score=True,\n",
    "                          verbose=2)\n",
    "search_est.fit(X_train, y_train, verbose=True)"
   ]
  },
  {
   "cell_type": "code",
   "execution_count": null,
   "metadata": {},
   "outputs": [],
   "source": [
    "search_est.best_score_\n",
    "search_est.best_params_\n",
    "search_est.cv_results_"
   ]
  },
  {
   "cell_type": "code",
   "execution_count": null,
   "metadata": {},
   "outputs": [],
   "source": [
    "save_model(keras_est_filename + '_cv_results', search_est.cv_results_)"
   ]
  },
  {
   "cell_type": "code",
   "execution_count": null,
   "metadata": {},
   "outputs": [],
   "source": [
    "save_model(keras_est_filename + '_model', search_est.best_estimator_)"
   ]
  },
  {
   "cell_type": "code",
   "execution_count": null,
   "metadata": {},
   "outputs": [],
   "source": [
    "y_test_pred = search_est.best_estimator_.predict(X_train)\n",
    "score(\"Keras train\", y_train, y_test_pred)"
   ]
  },
  {
   "cell_type": "code",
   "execution_count": null,
   "metadata": {},
   "outputs": [],
   "source": [
    "y_test_pred = None\n",
    "predictions = predictions.assign(item_cnt_month=y_test_pred)\n",
    "submission = test.merge(predictions, how='left')[['item_cnt_month']]\n",
    "submission.head()\n",
    "submission.to_csv(ctx + '.csv.gz', index_label='ID', compression='gzip') #header=['ID', 'item_cnt_month'])"
   ]
  },
  {
   "cell_type": "code",
   "execution_count": null,
   "metadata": {},
   "outputs": [],
   "source": []
  }
 ],
 "metadata": {
  "kernelspec": {
   "display_name": "Python 3",
   "language": "python",
   "name": "python3"
  },
  "language_info": {
   "codemirror_mode": {
    "name": "ipython",
    "version": 3
   },
   "file_extension": ".py",
   "mimetype": "text/x-python",
   "name": "python",
   "nbconvert_exporter": "python",
   "pygments_lexer": "ipython3",
   "version": "3.6.8"
  }
 },
 "nbformat": 4,
 "nbformat_minor": 2
}
