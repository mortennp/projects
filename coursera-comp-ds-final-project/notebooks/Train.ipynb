{
 "cells": [
  {
   "cell_type": "markdown",
   "metadata": {},
   "source": [
    "# Imports"
   ]
  },
  {
   "cell_type": "code",
   "execution_count": null,
   "metadata": {},
   "outputs": [],
   "source": [
    "%load_ext autoreload\n",
    "%autoreload 2"
   ]
  },
  {
   "cell_type": "code",
   "execution_count": null,
   "metadata": {},
   "outputs": [],
   "source": [
    "import gc\n",
    "import pandas as pd\n",
    "import numpy as np\n",
    "\n",
    "from src import CTX, SEED, FOLDERS\n",
    "from src.data import io"
   ]
  },
  {
   "cell_type": "markdown",
   "metadata": {},
   "source": [
    "# Load train data"
   ]
  },
  {
   "cell_type": "code",
   "execution_count": null,
   "metadata": {},
   "outputs": [],
   "source": [
    "X_train = io.load_data(FOLDERS.PROCESSED, CTX + 'X_train', np.empty(0))\n",
    "y_train = io.load_data(FOLDERS.PROCESSED, CTX + 'y_train', np.empty(0))\n",
    "dates_train = io.load_data(FOLDERS.PROCESSED, CTX + 'dates_train', pd.DataFrame())\n",
    "feature_names = io.load_data(FOLDERS.PROCESSED, CTX + 'feature_names', pd.DataFrame())"
   ]
  },
  {
   "cell_type": "code",
   "execution_count": null,
   "metadata": {},
   "outputs": [],
   "source": [
    "print(X_train.dtype)\n",
    "print(X_train.shape)\n",
    "print(y_train.dtype)\n",
    "print(y_train.shape)\n",
    "print(dates_train.dtypes)\n",
    "print(dates_train.shape)\n",
    "print(feature_names.dtypes)\n",
    "print(feature_names.shape)"
   ]
  },
  {
   "cell_type": "code",
   "execution_count": null,
   "metadata": {},
   "outputs": [],
   "source": [
    "max_train_date_block_num = dates_train.date_block_num.max()\n",
    "max_train_date_block_num"
   ]
  },
  {
   "cell_type": "markdown",
   "metadata": {},
   "source": [
    "# Train"
   ]
  },
  {
   "cell_type": "code",
   "execution_count": null,
   "metadata": {},
   "outputs": [],
   "source": [
    "def save_and_score_est(est, name):\n",
    "    from src.models.io import save_model\n",
    "    from src.models import score\n",
    "    \n",
    "    y_train_pred = est.predict(X_train)\n",
    "    score(name, y_train, y_train_pred)\n",
    "    \n",
    "    save_model(FOLDERS.MODELS, name, est)"
   ]
  },
  {
   "cell_type": "code",
   "execution_count": null,
   "metadata": {},
   "outputs": [],
   "source": [
    "def gen_time_split(data, n_splits):\n",
    "    for i in range(n_splits):\n",
    "        #print(i)\n",
    "        first_vali_date_block_num = max_train_date_block_num - i\n",
    "        vali_indices = data.loc[:,'date_block_num'] == first_vali_date_block_num\n",
    "        train_indices = data.loc[:,'date_block_num'] < first_vali_date_block_num\n",
    "        yield (train_indices[train_indices].index.values, vali_indices[vali_indices].index.values)"
   ]
  },
  {
   "cell_type": "code",
   "execution_count": null,
   "metadata": {},
   "outputs": [],
   "source": [
    "from sklearn.model_selection import GridSearchCV, StratifiedKFold\n",
    "from sys import maxsize\n",
    "\n",
    "def grid_search(est, param_grid, short_circuit):\n",
    "    if short_circuit:\n",
    "        est.fit(X_train, y_train, verbose=True)\n",
    "        return est\n",
    "    else:\n",
    "        search_est = GridSearchCV(\n",
    "            est,\n",
    "            param_grid,\n",
    "            scoring='neg_mean_squared_error',\n",
    "            cv=gen_time_split(dates_train, 3),\n",
    "            refit=True,\n",
    "            return_train_score=True,\n",
    "            n_jobs=1,\n",
    "            verbose=maxsize)\n",
    "\n",
    "        search_est.fit(X_train, y_train)\n",
    "    \n",
    "        print(search_est.cv_results_)\n",
    "        print(search_est.best_score_)\n",
    "        print(search_est.best_params_)\n",
    "\n",
    "        return search_est.best_estimator_"
   ]
  },
  {
   "cell_type": "markdown",
   "metadata": {},
   "source": [
    "## XGBoost"
   ]
  },
  {
   "cell_type": "code",
   "execution_count": null,
   "metadata": {},
   "outputs": [],
   "source": [
    "import xgboost as xgb\n",
    "model_name = CTX + 'xgb'\n",
    "base_est = xgb.XGBRegressor(\n",
    "    n_estimators=200, learning_rate=0.1, max_depth=9,\n",
    "    objective='reg:linear', n_jobs=1, silent=False, random_state=SEED, verbose = True,\n",
    "    **{'tree_method':'gpu_hist'})\n",
    "est = grid_search(\n",
    "    base_est, \n",
    "    {'n_estimators':[150, 200, 250], 'learning_rate':[0.03, 0.1, 0.3], 'max_depth':[8,9,10]},\n",
    "    short_circuit = True)"
   ]
  },
  {
   "cell_type": "code",
   "execution_count": null,
   "metadata": {},
   "outputs": [],
   "source": [
    "save_and_score_est(est, model_name)"
   ]
  },
  {
   "cell_type": "code",
   "execution_count": null,
   "metadata": {},
   "outputs": [],
   "source": [
    "import matplotlib.pyplot as plt\n",
    "%matplotlib inline  \n",
    "\n",
    "plt.figure(102, figsize=(18,9))\n",
    "plt.bar(feature_names.feature_name, est.feature_importances_)\n",
    "plt.xticks(rotation=90)\n",
    "plt.show()"
   ]
  },
  {
   "cell_type": "markdown",
   "metadata": {},
   "source": [
    "## Neural network"
   ]
  },
  {
   "cell_type": "code",
   "execution_count": null,
   "metadata": {},
   "outputs": [],
   "source": [
    "from keras.models import Sequential\n",
    "from keras.layers import Dense, Dropout\n",
    "from keras.optimizers import SGD, Adam\n",
    "\n",
    "def create_keras_model(lr, dropout_rate):\n",
    "    model = Sequential()\n",
    "    model.add(Dense(300, activation='sigmoid', input_shape=(X_train.shape[1], )))\n",
    "    model.add(Dense(300, activation='sigmoid'))\n",
    "    model.add(Dropout(dropout_rate, seed=SEED))\n",
    "    model.add(Dense(100, activation='sigmoid'))\n",
    "    model.add(Dense(1))\n",
    "    model.compile(\n",
    "        loss='mean_squared_error',\n",
    "        optimizer=Adam(lr=lr)\n",
    "        #optimizer=SGD(lr=lr, momentum=0.0, decay=0.0, nesterov=False)\n",
    "    )\n",
    "    return model"
   ]
  },
  {
   "cell_type": "code",
   "execution_count": null,
   "metadata": {},
   "outputs": [],
   "source": [
    "from keras.wrappers.scikit_learn import KerasRegressor\n",
    "model_name = CTX + 'keras'\n",
    "base_est = KerasRegressor(lr=0.0003, batch_size=10000, dropout_rate=0.7,\n",
    "    build_fn=create_keras_model, epochs=5, verbose=True)\n",
    "est = grid_search(\n",
    "    base_est,\n",
    "    {'lr':[0.00003, 0.0001, 0.0003], 'batch_size':[10000, 30000, 100000], 'dropout_rate':[0.6, 0.7, 0.8]},\n",
    "    short_circuit = True)"
   ]
  },
  {
   "cell_type": "code",
   "execution_count": null,
   "metadata": {},
   "outputs": [],
   "source": [
    "save_and_score_est(est, model_name)"
   ]
  },
  {
   "cell_type": "markdown",
   "metadata": {},
   "source": [
    "## Linear regression"
   ]
  },
  {
   "cell_type": "code",
   "execution_count": null,
   "metadata": {},
   "outputs": [],
   "source": [
    "from sklearn.linear_model import LinearRegression\n",
    "model_name = CTX + 'linear_regression'\n",
    "est = grid_search(\n",
    "    LinearRegression(normalize=False, n_jobs=-1),\n",
    "    {})"
   ]
  }
 ],
 "metadata": {
  "kernelspec": {
   "display_name": "Python 3",
   "language": "python",
   "name": "python3"
  },
  "language_info": {
   "codemirror_mode": {
    "name": "ipython",
    "version": 3
   },
   "file_extension": ".py",
   "mimetype": "text/x-python",
   "name": "python",
   "nbconvert_exporter": "python",
   "pygments_lexer": "ipython3",
   "version": "3.5.5"
  }
 },
 "nbformat": 4,
 "nbformat_minor": 2
}
